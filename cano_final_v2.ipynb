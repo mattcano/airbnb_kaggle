{
 "cells": [
  {
   "cell_type": "markdown",
   "metadata": {},
   "source": [
    "# DSC Final Project - Matt Cano"
   ]
  },
  {
   "cell_type": "code",
   "execution_count": 179,
   "metadata": {
    "collapsed": false
   },
   "outputs": [],
   "source": [
    "import numpy as np\n",
    "import matplotlib.pyplot as plt\n",
    "import pandas as pd\n",
    "import seaborn as sns\n",
    "import sklearn\n",
    "%matplotlib inline"
   ]
  },
  {
   "cell_type": "code",
   "execution_count": 180,
   "metadata": {
    "collapsed": false
   },
   "outputs": [
    {
     "data": {
      "text/html": [
       "<div>\n",
       "<table border=\"1\" class=\"dataframe\">\n",
       "  <thead>\n",
       "    <tr style=\"text-align: right;\">\n",
       "      <th></th>\n",
       "      <th>id</th>\n",
       "      <th>date_account_created</th>\n",
       "      <th>timestamp_first_active</th>\n",
       "      <th>date_first_booking</th>\n",
       "      <th>gender</th>\n",
       "      <th>age</th>\n",
       "      <th>signup_method</th>\n",
       "      <th>signup_flow</th>\n",
       "      <th>language</th>\n",
       "      <th>affiliate_channel</th>\n",
       "      <th>affiliate_provider</th>\n",
       "      <th>first_affiliate_tracked</th>\n",
       "      <th>signup_app</th>\n",
       "      <th>first_device_type</th>\n",
       "      <th>first_browser</th>\n",
       "      <th>country_destination</th>\n",
       "    </tr>\n",
       "  </thead>\n",
       "  <tbody>\n",
       "    <tr>\n",
       "      <th>0</th>\n",
       "      <td>gxn3p5htnn</td>\n",
       "      <td>2010-06-28</td>\n",
       "      <td>2009-03-19 04:32:55</td>\n",
       "      <td>NaT</td>\n",
       "      <td>-unknown-</td>\n",
       "      <td>NaN</td>\n",
       "      <td>facebook</td>\n",
       "      <td>0</td>\n",
       "      <td>en</td>\n",
       "      <td>direct</td>\n",
       "      <td>direct</td>\n",
       "      <td>untracked</td>\n",
       "      <td>Web</td>\n",
       "      <td>Mac Desktop</td>\n",
       "      <td>Chrome</td>\n",
       "      <td>NDF</td>\n",
       "    </tr>\n",
       "    <tr>\n",
       "      <th>1</th>\n",
       "      <td>820tgsjxq7</td>\n",
       "      <td>2011-05-25</td>\n",
       "      <td>2009-05-23 17:48:09</td>\n",
       "      <td>NaT</td>\n",
       "      <td>MALE</td>\n",
       "      <td>38.0</td>\n",
       "      <td>facebook</td>\n",
       "      <td>0</td>\n",
       "      <td>en</td>\n",
       "      <td>seo</td>\n",
       "      <td>google</td>\n",
       "      <td>untracked</td>\n",
       "      <td>Web</td>\n",
       "      <td>Mac Desktop</td>\n",
       "      <td>Chrome</td>\n",
       "      <td>NDF</td>\n",
       "    </tr>\n",
       "    <tr>\n",
       "      <th>2</th>\n",
       "      <td>4ft3gnwmtx</td>\n",
       "      <td>2010-09-28</td>\n",
       "      <td>2009-06-09 23:12:47</td>\n",
       "      <td>2010-08-02</td>\n",
       "      <td>FEMALE</td>\n",
       "      <td>56.0</td>\n",
       "      <td>basic</td>\n",
       "      <td>3</td>\n",
       "      <td>en</td>\n",
       "      <td>direct</td>\n",
       "      <td>direct</td>\n",
       "      <td>untracked</td>\n",
       "      <td>Web</td>\n",
       "      <td>Windows Desktop</td>\n",
       "      <td>IE</td>\n",
       "      <td>US</td>\n",
       "    </tr>\n",
       "    <tr>\n",
       "      <th>3</th>\n",
       "      <td>bjjt8pjhuk</td>\n",
       "      <td>2011-12-05</td>\n",
       "      <td>2009-10-31 06:01:29</td>\n",
       "      <td>2012-09-08</td>\n",
       "      <td>FEMALE</td>\n",
       "      <td>42.0</td>\n",
       "      <td>facebook</td>\n",
       "      <td>0</td>\n",
       "      <td>en</td>\n",
       "      <td>direct</td>\n",
       "      <td>direct</td>\n",
       "      <td>untracked</td>\n",
       "      <td>Web</td>\n",
       "      <td>Mac Desktop</td>\n",
       "      <td>Firefox</td>\n",
       "      <td>other</td>\n",
       "    </tr>\n",
       "    <tr>\n",
       "      <th>4</th>\n",
       "      <td>87mebub9p4</td>\n",
       "      <td>2010-09-14</td>\n",
       "      <td>2009-12-08 06:11:05</td>\n",
       "      <td>2010-02-18</td>\n",
       "      <td>-unknown-</td>\n",
       "      <td>41.0</td>\n",
       "      <td>basic</td>\n",
       "      <td>0</td>\n",
       "      <td>en</td>\n",
       "      <td>direct</td>\n",
       "      <td>direct</td>\n",
       "      <td>untracked</td>\n",
       "      <td>Web</td>\n",
       "      <td>Mac Desktop</td>\n",
       "      <td>Chrome</td>\n",
       "      <td>US</td>\n",
       "    </tr>\n",
       "  </tbody>\n",
       "</table>\n",
       "</div>"
      ],
      "text/plain": [
       "           id date_account_created timestamp_first_active date_first_booking  \\\n",
       "0  gxn3p5htnn           2010-06-28    2009-03-19 04:32:55                NaT   \n",
       "1  820tgsjxq7           2011-05-25    2009-05-23 17:48:09                NaT   \n",
       "2  4ft3gnwmtx           2010-09-28    2009-06-09 23:12:47         2010-08-02   \n",
       "3  bjjt8pjhuk           2011-12-05    2009-10-31 06:01:29         2012-09-08   \n",
       "4  87mebub9p4           2010-09-14    2009-12-08 06:11:05         2010-02-18   \n",
       "\n",
       "      gender   age signup_method  signup_flow language affiliate_channel  \\\n",
       "0  -unknown-   NaN      facebook            0       en            direct   \n",
       "1       MALE  38.0      facebook            0       en               seo   \n",
       "2     FEMALE  56.0         basic            3       en            direct   \n",
       "3     FEMALE  42.0      facebook            0       en            direct   \n",
       "4  -unknown-  41.0         basic            0       en            direct   \n",
       "\n",
       "  affiliate_provider first_affiliate_tracked signup_app first_device_type  \\\n",
       "0             direct               untracked        Web       Mac Desktop   \n",
       "1             google               untracked        Web       Mac Desktop   \n",
       "2             direct               untracked        Web   Windows Desktop   \n",
       "3             direct               untracked        Web       Mac Desktop   \n",
       "4             direct               untracked        Web       Mac Desktop   \n",
       "\n",
       "  first_browser country_destination  \n",
       "0        Chrome                 NDF  \n",
       "1        Chrome                 NDF  \n",
       "2            IE                  US  \n",
       "3       Firefox               other  \n",
       "4        Chrome                  US  "
      ]
     },
     "execution_count": 180,
     "metadata": {},
     "output_type": "execute_result"
    }
   ],
   "source": [
    "users = pd.read_csv(\"Data/train_users_2.csv\")\n",
    "users.date_account_created = pd.to_datetime(users.date_account_created)\n",
    "users.date_first_booking = pd.to_datetime(users.date_first_booking)\n",
    "users.timestamp_first_active = pd.to_datetime(users.timestamp_first_active, format='%Y%m%d%H%M%S')\n",
    "users.head()"
   ]
  },
  {
   "cell_type": "code",
   "execution_count": 181,
   "metadata": {
    "collapsed": false
   },
   "outputs": [],
   "source": [
    "# u2 = users.groupby('id').count()\n",
    "# u2.date_account_created.value_counts()"
   ]
  },
  {
   "cell_type": "code",
   "execution_count": 182,
   "metadata": {
    "collapsed": false
   },
   "outputs": [],
   "source": [
    "# print users.date_account_created.isnull().sum()\n",
    "# users.date_account_created.value_counts()\n",
    "# users.groupby([date_account_created.Month])['id'].count()"
   ]
  },
  {
   "cell_type": "code",
   "execution_count": 183,
   "metadata": {
    "collapsed": false
   },
   "outputs": [],
   "source": [
    "# # How in feature engineering I can create a diff column\n",
    "# u2 = users[['id', 'date_account_created', 'timestamp_first_active']]\n",
    "# u2['diff'] = u2.timestamp_first_active - u2.date_account_created\n",
    "# u2.head()"
   ]
  },
  {
   "cell_type": "code",
   "execution_count": 184,
   "metadata": {
    "collapsed": false
   },
   "outputs": [
    {
     "name": "stdout",
     "output_type": "stream",
     "text": [
      "<class 'pandas.core.frame.DataFrame'>\n",
      "RangeIndex: 213451 entries, 0 to 213450\n",
      "Data columns (total 16 columns):\n",
      "id                         213451 non-null object\n",
      "date_account_created       213451 non-null datetime64[ns]\n",
      "timestamp_first_active     213451 non-null datetime64[ns]\n",
      "date_first_booking         88908 non-null datetime64[ns]\n",
      "gender                     213451 non-null object\n",
      "age                        125461 non-null float64\n",
      "signup_method              213451 non-null object\n",
      "signup_flow                213451 non-null int64\n",
      "language                   213451 non-null object\n",
      "affiliate_channel          213451 non-null object\n",
      "affiliate_provider         213451 non-null object\n",
      "first_affiliate_tracked    207386 non-null object\n",
      "signup_app                 213451 non-null object\n",
      "first_device_type          213451 non-null object\n",
      "first_browser              213451 non-null object\n",
      "country_destination        213451 non-null object\n",
      "dtypes: datetime64[ns](3), float64(1), int64(1), object(11)\n",
      "memory usage: 26.1+ MB\n"
     ]
    }
   ],
   "source": [
    "users.info()"
   ]
  },
  {
   "cell_type": "code",
   "execution_count": 185,
   "metadata": {
    "collapsed": false
   },
   "outputs": [
    {
     "name": "stdout",
     "output_type": "stream",
     "text": [
      "(213451, 16)\n"
     ]
    },
    {
     "data": {
      "text/html": [
       "<div>\n",
       "<table border=\"1\" class=\"dataframe\">\n",
       "  <thead>\n",
       "    <tr style=\"text-align: right;\">\n",
       "      <th></th>\n",
       "      <th>age</th>\n",
       "      <th>signup_flow</th>\n",
       "    </tr>\n",
       "  </thead>\n",
       "  <tbody>\n",
       "    <tr>\n",
       "      <th>count</th>\n",
       "      <td>125461.000000</td>\n",
       "      <td>213451.000000</td>\n",
       "    </tr>\n",
       "    <tr>\n",
       "      <th>mean</th>\n",
       "      <td>49.668335</td>\n",
       "      <td>3.267387</td>\n",
       "    </tr>\n",
       "    <tr>\n",
       "      <th>std</th>\n",
       "      <td>155.666612</td>\n",
       "      <td>7.637707</td>\n",
       "    </tr>\n",
       "    <tr>\n",
       "      <th>min</th>\n",
       "      <td>1.000000</td>\n",
       "      <td>0.000000</td>\n",
       "    </tr>\n",
       "    <tr>\n",
       "      <th>25%</th>\n",
       "      <td>28.000000</td>\n",
       "      <td>0.000000</td>\n",
       "    </tr>\n",
       "    <tr>\n",
       "      <th>50%</th>\n",
       "      <td>34.000000</td>\n",
       "      <td>0.000000</td>\n",
       "    </tr>\n",
       "    <tr>\n",
       "      <th>75%</th>\n",
       "      <td>43.000000</td>\n",
       "      <td>0.000000</td>\n",
       "    </tr>\n",
       "    <tr>\n",
       "      <th>max</th>\n",
       "      <td>2014.000000</td>\n",
       "      <td>25.000000</td>\n",
       "    </tr>\n",
       "  </tbody>\n",
       "</table>\n",
       "</div>"
      ],
      "text/plain": [
       "                 age    signup_flow\n",
       "count  125461.000000  213451.000000\n",
       "mean       49.668335       3.267387\n",
       "std       155.666612       7.637707\n",
       "min         1.000000       0.000000\n",
       "25%        28.000000       0.000000\n",
       "50%        34.000000       0.000000\n",
       "75%        43.000000       0.000000\n",
       "max      2014.000000      25.000000"
      ]
     },
     "execution_count": 185,
     "metadata": {},
     "output_type": "execute_result"
    }
   ],
   "source": [
    "print users.shape\n",
    "users.describe()"
   ]
  },
  {
   "cell_type": "code",
   "execution_count": 186,
   "metadata": {
    "collapsed": false
   },
   "outputs": [
    {
     "name": "stdout",
     "output_type": "stream",
     "text": [
      "Null Values: 0\n",
      "-unknown-    95688\n",
      "FEMALE       63041\n",
      "MALE         54440\n",
      "OTHER          282\n",
      "Name: gender, dtype: int64\n"
     ]
    },
    {
     "data": {
      "text/plain": [
       "<seaborn.axisgrid.FacetGrid at 0x11f566550>"
      ]
     },
     "execution_count": 186,
     "metadata": {},
     "output_type": "execute_result"
    },
    {
     "data": {
      "image/png": "[encoded data removed]",
      "text/plain": [
       "<matplotlib.figure.Figure at 0x1256e2350>"
      ]
     },
     "metadata": {},
     "output_type": "display_data"
    }
   ],
   "source": [
    "print \"Null Values:\", users.gender.isnull().sum()\n",
    "print users.gender.value_counts()\n",
    "sns.factorplot('gender', data=users, kind='count', aspect=2.0)"
   ]
  },
  {
   "cell_type": "code",
   "execution_count": 187,
   "metadata": {
    "collapsed": false
   },
   "outputs": [
    {
     "name": "stdout",
     "output_type": "stream",
     "text": [
      "Null Values: 87990\n",
      "104.0       48\n",
      "108.0       15\n",
      "102.0       34\n",
      "112.0        1\n",
      "103.0       26\n",
      "132.0        1\n",
      "1949.0       3\n",
      "1942.0       1\n",
      "1953.0       1\n",
      "1928.0       2\n",
      "1938.0       1\n",
      "105.0     1131\n",
      "107.0       23\n",
      "109.0       31\n",
      "150.0        1\n",
      "1929.0       2\n",
      "1931.0       3\n",
      "2008.0       1\n",
      "1932.0       3\n",
      "110.0      196\n",
      "101.0       23\n",
      "106.0       17\n",
      "1952.0       1\n",
      "1936.0       2\n",
      "1995.0       1\n",
      "1924.0       2\n",
      "2013.0      39\n",
      "1925.0       1\n",
      "2014.0     710\n",
      "115.0       13\n",
      "113.0        4\n",
      "111.0        2\n",
      "1947.0       2\n",
      "1933.0       1\n",
      "1926.0       1\n",
      "1935.0       1\n",
      "1927.0       1\n",
      "Name: age, dtype: int64\n",
      "Age > 110: 801\n"
     ]
    },
    {
     "data": {
      "text/plain": [
       "<matplotlib.axes._subplots.AxesSubplot at 0x1241a0690>"
      ]
     },
     "execution_count": 187,
     "metadata": {},
     "output_type": "execute_result"
    },
    {
     "data": {
      "image/png": "[encoded data removed]",
      "text/plain": [
       "<matplotlib.figure.Figure at 0x1256b73d0>"
      ]
     },
     "metadata": {},
     "output_type": "display_data"
    }
   ],
   "source": [
    "print \"Null Values:\", users.age.isnull().sum()\n",
    "print users[users.age > 100].age.value_counts(sort=False)\n",
    "print \"Age > 110:\", len(users[(users.age > 110)])\n",
    "# users[(users.age > 100)].age.hist()\n",
    "sns.distplot(users[(users.age < 1924)].age)\n",
    "# sns.distplot(users[(users.age > 100) & (users.age < 1924)].age)\n",
    "# sns.factorplot('age', data=users, kind='count', aspect=2.0)"
   ]
  },
  {
   "cell_type": "code",
   "execution_count": 188,
   "metadata": {
    "collapsed": false
   },
   "outputs": [
    {
     "name": "stderr",
     "output_type": "stream",
     "text": [
      "/Users/MattCano/anaconda2/envs/bishops/lib/python2.7/site-packages/ipykernel/__main__.py:3: SettingWithCopyWarning: \n",
      "A value is trying to be set on a copy of a slice from a DataFrame\n",
      "\n",
      "See the caveats in the documentation: http://pandas.pydata.org/pandas-docs/stable/indexing.html#indexing-view-versus-copy\n",
      "  app.launch_new_instance()\n"
     ]
    },
    {
     "data": {
      "text/plain": [
       "<matplotlib.axes._subplots.AxesSubplot at 0x11f56a610>"
      ]
     },
     "execution_count": 188,
     "metadata": {},
     "output_type": "execute_result"
    },
    {
     "data": {
      "image/png": "[encoded data removed]",
      "text/plain": [
       "<matplotlib.figure.Figure at 0x1208db390>"
      ]
     },
     "metadata": {},
     "output_type": "display_data"
    }
   ],
   "source": [
    "# Need to correct age values > 1924 (779 rows) assuming year of birth instead of age\n",
    "# Changing 801 age values > 110 to Null since likely erroneous entries (known ~750 values 1924-1914, but most of those 1914)\n",
    "users.age[users.age > 110] = None\n",
    "users.age.hist()"
   ]
  },
  {
   "cell_type": "code",
   "execution_count": 189,
   "metadata": {
    "collapsed": false
   },
   "outputs": [
    {
     "name": "stdout",
     "output_type": "stream",
     "text": [
      "Null Values: 0\n",
      "basic       152897\n",
      "facebook     60008\n",
      "google         546\n",
      "Name: signup_method, dtype: int64\n"
     ]
    },
    {
     "data": {
      "text/plain": [
       "<seaborn.axisgrid.FacetGrid at 0x115962710>"
      ]
     },
     "execution_count": 189,
     "metadata": {},
     "output_type": "execute_result"
    },
    {
     "data": {
      "image/png": "[encoded data removed]",
      "text/plain": [
       "<matplotlib.figure.Figure at 0x1256b7fd0>"
      ]
     },
     "metadata": {},
     "output_type": "display_data"
    }
   ],
   "source": [
    "print \"Null Values:\", users.signup_method.isnull().sum()\n",
    "print users.signup_method.value_counts()\n",
    "sns.factorplot('signup_method', data=users, kind='count', aspect=2.0)"
   ]
  },
  {
   "cell_type": "code",
   "execution_count": 190,
   "metadata": {
    "collapsed": false
   },
   "outputs": [
    {
     "name": "stdout",
     "output_type": "stream",
     "text": [
      "Null Values: 0\n",
      "0     164739\n",
      "1       1047\n",
      "2       6881\n",
      "3       8822\n",
      "4          1\n",
      "5         36\n",
      "6        301\n",
      "8        240\n",
      "10         2\n",
      "12      9329\n",
      "15        10\n",
      "16        11\n",
      "20        14\n",
      "21       196\n",
      "23      2835\n",
      "24      4328\n",
      "25     14659\n",
      "Name: signup_flow, dtype: int64\n"
     ]
    },
    {
     "data": {
      "text/plain": [
       "<seaborn.axisgrid.FacetGrid at 0x1230fe990>"
      ]
     },
     "execution_count": 190,
     "metadata": {},
     "output_type": "execute_result"
    },
    {
     "data": {
      "image/png": "[encoded data removed]",
      "text/plain": [
       "<matplotlib.figure.Figure at 0x1241a0210>"
      ]
     },
     "metadata": {},
     "output_type": "display_data"
    }
   ],
   "source": [
    "print \"Null Values:\", users.signup_flow.isnull().sum()\n",
    "print users.signup_flow.value_counts(sort=False)\n",
    "sns.factorplot('signup_flow', data=users, kind='count', aspect=2.0)"
   ]
  },
  {
   "cell_type": "code",
   "execution_count": 191,
   "metadata": {
    "collapsed": false
   },
   "outputs": [
    {
     "name": "stdout",
     "output_type": "stream",
     "text": [
      "Null Values: 0\n",
      "en    206314\n",
      "zh      1632\n",
      "fr      1172\n",
      "es       915\n",
      "ko       747\n",
      "de       732\n",
      "it       514\n",
      "ru       389\n",
      "pt       240\n",
      "ja       225\n",
      "sv       122\n",
      "nl        97\n",
      "tr        64\n",
      "da        58\n",
      "pl        54\n",
      "cs        32\n",
      "no        30\n",
      "el        24\n",
      "th        24\n",
      "id        22\n",
      "hu        18\n",
      "fi        14\n",
      "is         5\n",
      "ca         5\n",
      "hr         2\n",
      "Name: language, dtype: int64\n"
     ]
    },
    {
     "data": {
      "text/plain": [
       "<seaborn.axisgrid.FacetGrid at 0x134fc8510>"
      ]
     },
     "execution_count": 191,
     "metadata": {},
     "output_type": "execute_result"
    },
    {
     "data": {
      "image/png": "[encoded data removed]",
      "text/plain": [
       "<matplotlib.figure.Figure at 0x118761e10>"
      ]
     },
     "metadata": {},
     "output_type": "display_data"
    }
   ],
   "source": [
    "print \"Null Values:\", users.language.isnull().sum()\n",
    "print users.language.value_counts(sort=True)\n",
    "sns.factorplot('language', data=users, kind='count', aspect=2.0)"
   ]
  },
  {
   "cell_type": "code",
   "execution_count": 192,
   "metadata": {
    "collapsed": false
   },
   "outputs": [
    {
     "name": "stdout",
     "output_type": "stream",
     "text": [
      "Null Values: 0\n",
      "direct           137727\n",
      "sem-brand         26045\n",
      "sem-non-brand     18844\n",
      "other              8961\n",
      "seo                8663\n",
      "api                8167\n",
      "content            3948\n",
      "remarketing        1096\n",
      "Name: affiliate_channel, dtype: int64\n"
     ]
    },
    {
     "data": {
      "text/plain": [
       "<seaborn.axisgrid.FacetGrid at 0x1356de710>"
      ]
     },
     "execution_count": 192,
     "metadata": {},
     "output_type": "execute_result"
    },
    {
     "data": {
      "image/png": "[encoded data removed]",
      "text/plain": [
       "<matplotlib.figure.Figure at 0x120307590>"
      ]
     },
     "metadata": {},
     "output_type": "display_data"
    }
   ],
   "source": [
    "print \"Null Values:\", users.affiliate_channel.isnull().sum()\n",
    "print users.affiliate_channel.value_counts(sort=True)\n",
    "sns.factorplot('affiliate_channel', data=users, kind='count', aspect=2.0)"
   ]
  },
  {
   "cell_type": "code",
   "execution_count": 193,
   "metadata": {
    "collapsed": false
   },
   "outputs": [
    {
     "name": "stdout",
     "output_type": "stream",
     "text": [
      "Null Values: 0\n",
      "direct                 137426\n",
      "google                  51693\n",
      "other                   12549\n",
      "craigslist               3471\n",
      "bing                     2328\n",
      "facebook                 2273\n",
      "vast                      829\n",
      "padmapper                 768\n",
      "facebook-open-graph       545\n",
      "yahoo                     496\n",
      "gsp                       453\n",
      "meetup                    347\n",
      "email-marketing           166\n",
      "naver                      52\n",
      "baidu                      29\n",
      "yandex                     17\n",
      "wayn                        8\n",
      "daum                        1\n",
      "Name: affiliate_provider, dtype: int64\n"
     ]
    },
    {
     "data": {
      "text/plain": [
       "<seaborn.axisgrid.FacetGrid at 0x1230fec50>"
      ]
     },
     "execution_count": 193,
     "metadata": {},
     "output_type": "execute_result"
    },
    {
     "data": {
      "image/png": "[encoded data removed]",
      "text/plain": [
       "<matplotlib.figure.Figure at 0x1255e2b50>"
      ]
     },
     "metadata": {},
     "output_type": "display_data"
    }
   ],
   "source": [
    "print \"Null Values:\", users.affiliate_provider.isnull().sum()\n",
    "print users.affiliate_provider.value_counts(sort=True)\n",
    "sns.factorplot('affiliate_provider', data=users, kind='count', aspect=2.0)"
   ]
  },
  {
   "cell_type": "code",
   "execution_count": 194,
   "metadata": {
    "collapsed": false
   },
   "outputs": [
    {
     "name": "stdout",
     "output_type": "stream",
     "text": [
      "Null Values: 6065\n",
      "untracked        109232\n",
      "linked            46287\n",
      "omg               43982\n",
      "tracked-other      6156\n",
      "product            1556\n",
      "marketing           139\n",
      "local ops            34\n",
      "Name: first_affiliate_tracked, dtype: int64\n"
     ]
    },
    {
     "data": {
      "text/plain": [
       "<seaborn.axisgrid.FacetGrid at 0x135a393d0>"
      ]
     },
     "execution_count": 194,
     "metadata": {},
     "output_type": "execute_result"
    },
    {
     "data": {
      "image/png": "[encoded data removed]",
      "text/plain": [
       "<matplotlib.figure.Figure at 0x11616a2d0>"
      ]
     },
     "metadata": {},
     "output_type": "display_data"
    }
   ],
   "source": [
    "print \"Null Values:\", users.first_affiliate_tracked.isnull().sum()\n",
    "print users.first_affiliate_tracked.value_counts(sort=True)\n",
    "sns.factorplot('first_affiliate_tracked', data=users, kind='count', aspect=2.0)"
   ]
  },
  {
   "cell_type": "code",
   "execution_count": 195,
   "metadata": {
    "collapsed": false
   },
   "outputs": [
    {
     "name": "stdout",
     "output_type": "stream",
     "text": [
      "Null Values: 0\n",
      "Web        182717\n",
      "iOS         19019\n",
      "Moweb        6261\n",
      "Android      5454\n",
      "Name: signup_app, dtype: int64\n"
     ]
    },
    {
     "data": {
      "text/plain": [
       "<seaborn.axisgrid.FacetGrid at 0x135ae3a50>"
      ]
     },
     "execution_count": 195,
     "metadata": {},
     "output_type": "execute_result"
    },
    {
     "data": {
      "image/png": "[encoded data removed]",
      "text/plain": [
       "<matplotlib.figure.Figure at 0x134f64c10>"
      ]
     },
     "metadata": {},
     "output_type": "display_data"
    }
   ],
   "source": [
    "print \"Null Values:\", users.signup_app.isnull().sum()\n",
    "print users.signup_app.value_counts(sort=True)\n",
    "sns.factorplot('signup_app', data=users, kind='count', aspect=2.0)"
   ]
  },
  {
   "cell_type": "code",
   "execution_count": 196,
   "metadata": {
    "collapsed": false
   },
   "outputs": [
    {
     "name": "stdout",
     "output_type": "stream",
     "text": [
      "Null Values: 0\n",
      "Mac Desktop           89600\n",
      "Windows Desktop       72716\n",
      "iPhone                20759\n",
      "iPad                  14339\n",
      "Other/Unknown         10667\n",
      "Android Phone          2803\n",
      "Android Tablet         1292\n",
      "Desktop (Other)        1199\n",
      "SmartPhone (Other)       76\n",
      "Name: first_device_type, dtype: int64\n"
     ]
    },
    {
     "data": {
      "text/plain": [
       "<seaborn.axisgrid.FacetGrid at 0x11e048090>"
      ]
     },
     "execution_count": 196,
     "metadata": {},
     "output_type": "execute_result"
    },
    {
     "data": {
      "image/png": "[encoded data removed]",
      "text/plain": [
       "<matplotlib.figure.Figure at 0x1240cf250>"
      ]
     },
     "metadata": {},
     "output_type": "display_data"
    }
   ],
   "source": [
    "print \"Null Values:\", users.first_device_type.isnull().sum()\n",
    "print users.first_device_type.value_counts(sort=True)\n",
    "sns.factorplot('first_device_type', data=users, kind='count', aspect=2.0)"
   ]
  },
  {
   "cell_type": "code",
   "execution_count": 197,
   "metadata": {
    "collapsed": false
   },
   "outputs": [
    {
     "name": "stdout",
     "output_type": "stream",
     "text": [
      "Null Values: 0\n",
      "Chrome                  63845\n",
      "Safari                  45169\n",
      "Firefox                 33655\n",
      "-unknown-               27266\n",
      "IE                      21068\n",
      "Mobile Safari           19274\n",
      "Chrome Mobile            1270\n",
      "Android Browser           851\n",
      "AOL Explorer              245\n",
      "Opera                     188\n",
      "Silk                      124\n",
      "Chromium                   73\n",
      "BlackBerry Browser         53\n",
      "Maxthon                    46\n",
      "IE Mobile                  36\n",
      "Apple Mail                 36\n",
      "Sogou Explorer             33\n",
      "Mobile Firefox             30\n",
      "SiteKiosk                  24\n",
      "RockMelt                   24\n",
      "Iron                       17\n",
      "IceWeasel                  13\n",
      "Pale Moon                  12\n",
      "Yandex.Browser             11\n",
      "SeaMonkey                  11\n",
      "CometBird                  11\n",
      "Camino                      9\n",
      "TenFourFox                  8\n",
      "wOSBrowser                  6\n",
      "CoolNovo                    6\n",
      "Avant Browser               4\n",
      "Opera Mini                  4\n",
      "Mozilla                     3\n",
      "Comodo Dragon               2\n",
      "Flock                       2\n",
      "Opera Mobile                2\n",
      "SlimBrowser                 2\n",
      "OmniWeb                     2\n",
      "Crazy Browser               2\n",
      "TheWorld Browser            2\n",
      "PS Vita browser             1\n",
      "Googlebot                   1\n",
      "IceDragon                   1\n",
      "Stainless                   1\n",
      "Conkeror                    1\n",
      "Outlook 2007                1\n",
      "Palm Pre web browser        1\n",
      "Kindle Browser              1\n",
      "Epic                        1\n",
      "Google Earth                1\n",
      "Arora                       1\n",
      "NetNewsWire                 1\n",
      "Name: first_browser, dtype: int64\n"
     ]
    },
    {
     "data": {
      "text/plain": [
       "<seaborn.axisgrid.FacetGrid at 0x134f515d0>"
      ]
     },
     "execution_count": 197,
     "metadata": {},
     "output_type": "execute_result"
    },
    {
     "data": {
      "image/png": "[encoded data removed]",
      "text/plain": [
       "<matplotlib.figure.Figure at 0x1240cff90>"
      ]
     },
     "metadata": {},
     "output_type": "display_data"
    }
   ],
   "source": [
    "print \"Null Values:\", users.first_browser.isnull().sum()\n",
    "print users.first_browser.value_counts(sort=True)\n",
    "sns.factorplot('first_browser', data=users, kind='count', aspect=2.0)"
   ]
  },
  {
   "cell_type": "code",
   "execution_count": 198,
   "metadata": {
    "collapsed": false
   },
   "outputs": [
    {
     "name": "stdout",
     "output_type": "stream",
     "text": [
      "Null Values: 0\n",
      "NDF      124543\n",
      "US        62376\n",
      "other     10094\n",
      "FR         5023\n",
      "IT         2835\n",
      "GB         2324\n",
      "ES         2249\n",
      "CA         1428\n",
      "DE         1061\n",
      "NL          762\n",
      "AU          539\n",
      "PT          217\n",
      "Name: country_destination, dtype: int64\n"
     ]
    },
    {
     "data": {
      "text/plain": [
       "<seaborn.axisgrid.FacetGrid at 0x136678910>"
      ]
     },
     "execution_count": 198,
     "metadata": {},
     "output_type": "execute_result"
    },
    {
     "data": {
      "image/png": "[encoded data removed]",
      "text/plain": [
       "<matplotlib.figure.Figure at 0x135167c90>"
      ]
     },
     "metadata": {},
     "output_type": "display_data"
    }
   ],
   "source": [
    "print \"Null Values:\", users.country_destination.isnull().sum()\n",
    "print users.country_destination.value_counts(sort=True)\n",
    "sns.factorplot('country_destination', data=users, kind='count', aspect=2.0)"
   ]
  },
  {
   "cell_type": "code",
   "execution_count": 199,
   "metadata": {
    "collapsed": false
   },
   "outputs": [],
   "source": [
    "# This is a large file (~700MB) so it takes a while to load...\n",
    "# sessions = pd.read_csv(\"Data/sessions.csv\")"
   ]
  },
  {
   "cell_type": "code",
   "execution_count": 200,
   "metadata": {
    "collapsed": false
   },
   "outputs": [],
   "source": [
    "# print sessions.shape\n",
    "# sessions.head()"
   ]
  },
  {
   "cell_type": "code",
   "execution_count": 201,
   "metadata": {
    "collapsed": false
   },
   "outputs": [],
   "source": [
    "# Looking at the sessions data for one user\n",
    "# sessions[sessions.user_id == 'd1mm9tcy42']"
   ]
  },
  {
   "cell_type": "code",
   "execution_count": null,
   "metadata": {
    "collapsed": true
   },
   "outputs": [],
   "source": []
  },
  {
   "cell_type": "markdown",
   "metadata": {},
   "source": [
    "# Feature Engineering"
   ]
  },
  {
   "cell_type": "code",
   "execution_count": 202,
   "metadata": {
    "collapsed": false
   },
   "outputs": [
    {
     "data": {
      "text/plain": [
       "<matplotlib.axes._subplots.AxesSubplot at 0x1223ba650>"
      ]
     },
     "execution_count": 202,
     "metadata": {},
     "output_type": "execute_result"
    },
    {
     "data": {
      "image/png": "[encoded data removed]",
      "text/plain": [
       "<matplotlib.figure.Figure at 0x1256cf550>"
      ]
     },
     "metadata": {},
     "output_type": "display_data"
    }
   ],
   "source": [
    "# Creating a new column showing # of hours between account created and first active. \n",
    "# Negative value indicated first active before creating account\n",
    "users['diff_created_active'] = (users.timestamp_first_active - users.date_account_created)/np.timedelta64(1,'h')\n",
    "# users.diff_created_active.value_counts(bins=10000, sort=False).head()\n",
    "# users[['id', 'date_account_created', 'timestamp_first_active', 'diff_created_active']].sort_values(by='diff_created_active', ascending=False).head()\n",
    "sns.distplot(users.diff_created_active)"
   ]
  },
  {
   "cell_type": "code",
   "execution_count": 203,
   "metadata": {
    "collapsed": false
   },
   "outputs": [
    {
     "data": {
      "text/plain": [
       "<matplotlib.axes._subplots.AxesSubplot at 0x124087350>"
      ]
     },
     "execution_count": 203,
     "metadata": {},
     "output_type": "execute_result"
    },
    {
     "data": {
      "image/png": "[encoded data removed]",
      "text/plain": [
       "<matplotlib.figure.Figure at 0x1159fffd0>"
      ]
     },
     "metadata": {},
     "output_type": "display_data"
    }
   ],
   "source": [
    "# Creating a new column showing # of HOURS between account created and first booking. \n",
    "# Negative value indicated first booked before creating account\n",
    "    users['diff_created_booked'] = (users.date_first_booking - users.date_account_created)/np.timedelta64(1,'h')\n",
    "users.diff_created_booked.value_counts(bins=10, sort=True).head()\n",
    "sns.distplot(users.diff_created_booked.dropna())"
   ]
  },
  {
   "cell_type": "code",
   "execution_count": 204,
   "metadata": {
    "collapsed": false
   },
   "outputs": [
    {
     "data": {
      "text/plain": [
       "<seaborn.axisgrid.FacetGrid at 0x1255788d0>"
      ]
     },
     "execution_count": 204,
     "metadata": {},
     "output_type": "execute_result"
    },
    {
     "data": {
      "image/png": "[encoded data removed]",
      "text/plain": [
       "<matplotlib.figure.Figure at 0x1356dee90>"
      ]
     },
     "metadata": {},
     "output_type": "display_data"
    }
   ],
   "source": [
    "# Creating columns breaking out 'date_account_created' to month, season and day of week\n",
    "users['account_created_month'] = users.date_account_created.map(lambda x: x.month)\n",
    "# Day of week account created [0...6] = [M...Su]\n",
    "users['account_created_dow'] = users.date_account_created.map(lambda x: x.dayofweek)\n",
    "# Roughly season of year account created (N. Hemisphere), [1,2,3,4] = [Winter, Spring, Summer, Fall]\n",
    "users['account_created_season'] = users.date_account_created.map(lambda x: (x.month-1)/3+1)\n",
    "# users[['date_account_created', 'account_created_month','account_created_season','account_created_dow']].head()\n",
    "sns.factorplot('account_created_month', data=users, kind='count', aspect=2.0)"
   ]
  },
  {
   "cell_type": "code",
   "execution_count": 205,
   "metadata": {
    "collapsed": false
   },
   "outputs": [
    {
     "data": {
      "text/plain": [
       "<seaborn.axisgrid.FacetGrid at 0x124246b50>"
      ]
     },
     "execution_count": 205,
     "metadata": {},
     "output_type": "execute_result"
    },
    {
     "data": {
      "image/png": "[encoded data removed]",
      "text/plain": [
       "<matplotlib.figure.Figure at 0x1256e2410>"
      ]
     },
     "metadata": {},
     "output_type": "display_data"
    }
   ],
   "source": [
    "sns.factorplot('account_created_season', data=users, kind='count', aspect=2.0)"
   ]
  },
  {
   "cell_type": "code",
   "execution_count": 206,
   "metadata": {
    "collapsed": false
   },
   "outputs": [
    {
     "data": {
      "text/plain": [
       "<seaborn.axisgrid.FacetGrid at 0x136681550>"
      ]
     },
     "execution_count": 206,
     "metadata": {},
     "output_type": "execute_result"
    },
    {
     "data": {
      "image/png": "[encoded data removed]",
      "text/plain": [
       "<matplotlib.figure.Figure at 0x1366816d0>"
      ]
     },
     "metadata": {},
     "output_type": "display_data"
    }
   ],
   "source": [
    "sns.factorplot('account_created_dow', data=users, kind='count', aspect=2.0)"
   ]
  },
  {
   "cell_type": "code",
   "execution_count": 207,
   "metadata": {
    "collapsed": false
   },
   "outputs": [
    {
     "data": {
      "text/plain": [
       "<seaborn.axisgrid.FacetGrid at 0x1242460d0>"
      ]
     },
     "execution_count": 207,
     "metadata": {},
     "output_type": "execute_result"
    },
    {
     "data": {
      "image/png": "[encoded data removed]",
      "text/plain": [
       "<matplotlib.figure.Figure at 0x136681150>"
      ]
     },
     "metadata": {},
     "output_type": "display_data"
    }
   ],
   "source": [
    "# Creating 'age_decade' column (e.g. 30 <= age < 40 is age_decade = 3)\n",
    "users['age_decade'] = np.floor(users.age/10)\n",
    "sns.factorplot('age_decade', data=users, kind='count', aspect=2.0)\n",
    "# users[users.age < 10][['id','age', 'age_decade']].head()"
   ]
  },
  {
   "cell_type": "code",
   "execution_count": 208,
   "metadata": {
    "collapsed": false
   },
   "outputs": [
    {
     "data": {
      "text/html": [
       "<div>\n",
       "<table border=\"1\" class=\"dataframe\">\n",
       "  <thead>\n",
       "    <tr style=\"text-align: right;\">\n",
       "      <th></th>\n",
       "      <th>id</th>\n",
       "      <th>date_account_created</th>\n",
       "      <th>timestamp_first_active</th>\n",
       "      <th>date_first_booking</th>\n",
       "      <th>gender</th>\n",
       "      <th>age</th>\n",
       "      <th>signup_method</th>\n",
       "      <th>signup_flow</th>\n",
       "      <th>language</th>\n",
       "      <th>affiliate_channel</th>\n",
       "      <th>...</th>\n",
       "      <th>browser_SeaMonkey</th>\n",
       "      <th>browser_Silk</th>\n",
       "      <th>browser_SiteKiosk</th>\n",
       "      <th>browser_SlimBrowser</th>\n",
       "      <th>browser_Sogou Explorer</th>\n",
       "      <th>browser_Stainless</th>\n",
       "      <th>browser_TenFourFox</th>\n",
       "      <th>browser_TheWorld Browser</th>\n",
       "      <th>browser_Yandex.Browser</th>\n",
       "      <th>browser_wOSBrowser</th>\n",
       "    </tr>\n",
       "  </thead>\n",
       "  <tbody>\n",
       "    <tr>\n",
       "      <th>0</th>\n",
       "      <td>gxn3p5htnn</td>\n",
       "      <td>2010-06-28</td>\n",
       "      <td>2009-03-19 04:32:55</td>\n",
       "      <td>NaT</td>\n",
       "      <td>-unknown-</td>\n",
       "      <td>NaN</td>\n",
       "      <td>facebook</td>\n",
       "      <td>0</td>\n",
       "      <td>en</td>\n",
       "      <td>direct</td>\n",
       "      <td>...</td>\n",
       "      <td>0</td>\n",
       "      <td>0</td>\n",
       "      <td>0</td>\n",
       "      <td>0</td>\n",
       "      <td>0</td>\n",
       "      <td>0</td>\n",
       "      <td>0</td>\n",
       "      <td>0</td>\n",
       "      <td>0</td>\n",
       "      <td>0</td>\n",
       "    </tr>\n",
       "    <tr>\n",
       "      <th>1</th>\n",
       "      <td>820tgsjxq7</td>\n",
       "      <td>2011-05-25</td>\n",
       "      <td>2009-05-23 17:48:09</td>\n",
       "      <td>NaT</td>\n",
       "      <td>MALE</td>\n",
       "      <td>38.0</td>\n",
       "      <td>facebook</td>\n",
       "      <td>0</td>\n",
       "      <td>en</td>\n",
       "      <td>seo</td>\n",
       "      <td>...</td>\n",
       "      <td>0</td>\n",
       "      <td>0</td>\n",
       "      <td>0</td>\n",
       "      <td>0</td>\n",
       "      <td>0</td>\n",
       "      <td>0</td>\n",
       "      <td>0</td>\n",
       "      <td>0</td>\n",
       "      <td>0</td>\n",
       "      <td>0</td>\n",
       "    </tr>\n",
       "    <tr>\n",
       "      <th>2</th>\n",
       "      <td>4ft3gnwmtx</td>\n",
       "      <td>2010-09-28</td>\n",
       "      <td>2009-06-09 23:12:47</td>\n",
       "      <td>2010-08-02</td>\n",
       "      <td>FEMALE</td>\n",
       "      <td>56.0</td>\n",
       "      <td>basic</td>\n",
       "      <td>3</td>\n",
       "      <td>en</td>\n",
       "      <td>direct</td>\n",
       "      <td>...</td>\n",
       "      <td>0</td>\n",
       "      <td>0</td>\n",
       "      <td>0</td>\n",
       "      <td>0</td>\n",
       "      <td>0</td>\n",
       "      <td>0</td>\n",
       "      <td>0</td>\n",
       "      <td>0</td>\n",
       "      <td>0</td>\n",
       "      <td>0</td>\n",
       "    </tr>\n",
       "    <tr>\n",
       "      <th>3</th>\n",
       "      <td>bjjt8pjhuk</td>\n",
       "      <td>2011-12-05</td>\n",
       "      <td>2009-10-31 06:01:29</td>\n",
       "      <td>2012-09-08</td>\n",
       "      <td>FEMALE</td>\n",
       "      <td>42.0</td>\n",
       "      <td>facebook</td>\n",
       "      <td>0</td>\n",
       "      <td>en</td>\n",
       "      <td>direct</td>\n",
       "      <td>...</td>\n",
       "      <td>0</td>\n",
       "      <td>0</td>\n",
       "      <td>0</td>\n",
       "      <td>0</td>\n",
       "      <td>0</td>\n",
       "      <td>0</td>\n",
       "      <td>0</td>\n",
       "      <td>0</td>\n",
       "      <td>0</td>\n",
       "      <td>0</td>\n",
       "    </tr>\n",
       "    <tr>\n",
       "      <th>4</th>\n",
       "      <td>87mebub9p4</td>\n",
       "      <td>2010-09-14</td>\n",
       "      <td>2009-12-08 06:11:05</td>\n",
       "      <td>2010-02-18</td>\n",
       "      <td>-unknown-</td>\n",
       "      <td>41.0</td>\n",
       "      <td>basic</td>\n",
       "      <td>0</td>\n",
       "      <td>en</td>\n",
       "      <td>direct</td>\n",
       "      <td>...</td>\n",
       "      <td>0</td>\n",
       "      <td>0</td>\n",
       "      <td>0</td>\n",
       "      <td>0</td>\n",
       "      <td>0</td>\n",
       "      <td>0</td>\n",
       "      <td>0</td>\n",
       "      <td>0</td>\n",
       "      <td>0</td>\n",
       "      <td>0</td>\n",
       "    </tr>\n",
       "  </tbody>\n",
       "</table>\n",
       "<p>5 rows × 129 columns</p>\n",
       "</div>"
      ],
      "text/plain": [
       "           id date_account_created timestamp_first_active date_first_booking  \\\n",
       "0  gxn3p5htnn           2010-06-28    2009-03-19 04:32:55                NaT   \n",
       "1  820tgsjxq7           2011-05-25    2009-05-23 17:48:09                NaT   \n",
       "2  4ft3gnwmtx           2010-09-28    2009-06-09 23:12:47         2010-08-02   \n",
       "3  bjjt8pjhuk           2011-12-05    2009-10-31 06:01:29         2012-09-08   \n",
       "4  87mebub9p4           2010-09-14    2009-12-08 06:11:05         2010-02-18   \n",
       "\n",
       "      gender   age signup_method  signup_flow language affiliate_channel  \\\n",
       "0  -unknown-   NaN      facebook            0       en            direct   \n",
       "1       MALE  38.0      facebook            0       en               seo   \n",
       "2     FEMALE  56.0         basic            3       en            direct   \n",
       "3     FEMALE  42.0      facebook            0       en            direct   \n",
       "4  -unknown-  41.0         basic            0       en            direct   \n",
       "\n",
       "          ...         browser_SeaMonkey browser_Silk browser_SiteKiosk  \\\n",
       "0         ...                         0            0                 0   \n",
       "1         ...                         0            0                 0   \n",
       "2         ...                         0            0                 0   \n",
       "3         ...                         0            0                 0   \n",
       "4         ...                         0            0                 0   \n",
       "\n",
       "  browser_SlimBrowser browser_Sogou Explorer browser_Stainless  \\\n",
       "0                   0                      0                 0   \n",
       "1                   0                      0                 0   \n",
       "2                   0                      0                 0   \n",
       "3                   0                      0                 0   \n",
       "4                   0                      0                 0   \n",
       "\n",
       "   browser_TenFourFox  browser_TheWorld Browser  browser_Yandex.Browser  \\\n",
       "0                   0                         0                       0   \n",
       "1                   0                         0                       0   \n",
       "2                   0                         0                       0   \n",
       "3                   0                         0                       0   \n",
       "4                   0                         0                       0   \n",
       "\n",
       "   browser_wOSBrowser  \n",
       "0                   0  \n",
       "1                   0  \n",
       "2                   0  \n",
       "3                   0  \n",
       "4                   0  \n",
       "\n",
       "[5 rows x 129 columns]"
      ]
     },
     "execution_count": 208,
     "metadata": {},
     "output_type": "execute_result"
    }
   ],
   "source": [
    "dumm1 = pd.get_dummies(users.gender, prefix = 'gender')\n",
    "dumm2 = pd.get_dummies(users.signup_method, prefix = 'su')\n",
    "dumm3 = pd.get_dummies(users.age_decade, prefix = 'age')\n",
    "dumm4 = pd.get_dummies(users.signup_app, prefix = 'app')\n",
    "dumm5 = pd.get_dummies(users.first_device_type, prefix = 'dev')\n",
    "dumm6 = pd.get_dummies(users.account_created_month, prefix = 'mo')\n",
    "dumm7 = pd.get_dummies(users.account_created_dow, prefix = 'dow')\n",
    "dumm8 = pd.get_dummies(users.account_created_season, prefix = 'season')\n",
    "# This row is giving a dummy column for each browser, not just the 5 I want\n",
    "dumm9 = pd.get_dummies(users.first_browser, prefix = 'browser')\n",
    "users = pd.concat([users, dumm1, dumm2, dumm3, dumm4, dumm5, dumm6, dumm7, dumm8, dumm9], axis=1)\n",
    "users.head()"
   ]
  },
  {
   "cell_type": "markdown",
   "metadata": {},
   "source": [
    "# Model #1: What Leads to Booking?"
   ]
  },
  {
   "cell_type": "markdown",
   "metadata": {
    "collapsed": true
   },
   "source": [
    "## Setting Up Train and Test Sets - Logistic Regression"
   ]
  },
  {
   "cell_type": "code",
   "execution_count": 76,
   "metadata": {
    "collapsed": false
   },
   "outputs": [
    {
     "name": "stdout",
     "output_type": "stream",
     "text": [
      "<class 'pandas.core.frame.DataFrame'>\n",
      "RangeIndex: 213451 entries, 0 to 213450\n",
      "Data columns (total 292 columns):\n",
      "id                              object\n",
      "date_account_created            datetime64[ns]\n",
      "timestamp_first_active          datetime64[ns]\n",
      "date_first_booking              datetime64[ns]\n",
      "gender                          object\n",
      "age                             float64\n",
      "signup_method                   object\n",
      "signup_flow                     int64\n",
      "language                        object\n",
      "affiliate_channel               object\n",
      "affiliate_provider              object\n",
      "first_affiliate_tracked         object\n",
      "signup_app                      object\n",
      "first_device_type               object\n",
      "first_browser                   object\n",
      "country_destination             object\n",
      "booked                          int64\n",
      "diff_created_active             float64\n",
      "diff_created_booked             float64\n",
      "account_created_month           int64\n",
      "account_created_dow             int64\n",
      "account_created_season          int64\n",
      "age_decade                      float64\n",
      "gender_-unknown-                uint8\n",
      "gender_FEMALE                   uint8\n",
      "gender_MALE                     uint8\n",
      "gender_OTHER                    uint8\n",
      "su_basic                        uint8\n",
      "su_facebook                     uint8\n",
      "su_google                       uint8\n",
      "age_0.0                         uint8\n",
      "age_1.0                         uint8\n",
      "age_2.0                         uint8\n",
      "age_3.0                         uint8\n",
      "age_4.0                         uint8\n",
      "age_5.0                         uint8\n",
      "age_6.0                         uint8\n",
      "age_7.0                         uint8\n",
      "age_8.0                         uint8\n",
      "age_9.0                         uint8\n",
      "age_10.0                        uint8\n",
      "age_11.0                        uint8\n",
      "app_Android                     uint8\n",
      "app_Moweb                       uint8\n",
      "app_Web                         uint8\n",
      "app_iOS                         uint8\n",
      "dev_Android Phone               uint8\n",
      "dev_Android Tablet              uint8\n",
      "dev_Desktop (Other)             uint8\n",
      "dev_Mac Desktop                 uint8\n",
      "dev_Other/Unknown               uint8\n",
      "dev_SmartPhone (Other)          uint8\n",
      "dev_Windows Desktop             uint8\n",
      "dev_iPad                        uint8\n",
      "dev_iPhone                      uint8\n",
      "mo_1                            uint8\n",
      "mo_2                            uint8\n",
      "mo_3                            uint8\n",
      "mo_4                            uint8\n",
      "mo_5                            uint8\n",
      "mo_6                            uint8\n",
      "mo_7                            uint8\n",
      "mo_8                            uint8\n",
      "mo_9                            uint8\n",
      "mo_10                           uint8\n",
      "mo_11                           uint8\n",
      "mo_12                           uint8\n",
      "dow_0                           uint8\n",
      "dow_1                           uint8\n",
      "dow_2                           uint8\n",
      "dow_3                           uint8\n",
      "dow_4                           uint8\n",
      "dow_5                           uint8\n",
      "dow_6                           uint8\n",
      "season_1                        uint8\n",
      "season_2                        uint8\n",
      "season_3                        uint8\n",
      "season_4                        uint8\n",
      "gender_-unknown-                uint8\n",
      "gender_FEMALE                   uint8\n",
      "gender_MALE                     uint8\n",
      "gender_OTHER                    uint8\n",
      "su_basic                        uint8\n",
      "su_facebook                     uint8\n",
      "su_google                       uint8\n",
      "age_0.0                         uint8\n",
      "age_1.0                         uint8\n",
      "age_2.0                         uint8\n",
      "age_3.0                         uint8\n",
      "age_4.0                         uint8\n",
      "age_5.0                         uint8\n",
      "age_6.0                         uint8\n",
      "age_7.0                         uint8\n",
      "age_8.0                         uint8\n",
      "age_9.0                         uint8\n",
      "age_10.0                        uint8\n",
      "age_11.0                        uint8\n",
      "app_Android                     uint8\n",
      "app_Moweb                       uint8\n",
      "app_Web                         uint8\n",
      "app_iOS                         uint8\n",
      "dev_Android Phone               uint8\n",
      "dev_Android Tablet              uint8\n",
      "dev_Desktop (Other)             uint8\n",
      "dev_Mac Desktop                 uint8\n",
      "dev_Other/Unknown               uint8\n",
      "dev_SmartPhone (Other)          uint8\n",
      "dev_Windows Desktop             uint8\n",
      "dev_iPad                        uint8\n",
      "dev_iPhone                      uint8\n",
      "mo_1                            uint8\n",
      "mo_2                            uint8\n",
      "mo_3                            uint8\n",
      "mo_4                            uint8\n",
      "mo_5                            uint8\n",
      "mo_6                            uint8\n",
      "mo_7                            uint8\n",
      "mo_8                            uint8\n",
      "mo_9                            uint8\n",
      "mo_10                           uint8\n",
      "mo_11                           uint8\n",
      "mo_12                           uint8\n",
      "dow_0                           uint8\n",
      "dow_1                           uint8\n",
      "dow_2                           uint8\n",
      "dow_3                           uint8\n",
      "dow_4                           uint8\n",
      "dow_5                           uint8\n",
      "dow_6                           uint8\n",
      "season_1                        uint8\n",
      "season_2                        uint8\n",
      "season_3                        uint8\n",
      "season_4                        uint8\n",
      "browser_-unknown-               uint8\n",
      "browser_AOL Explorer            uint8\n",
      "browser_Android Browser         uint8\n",
      "browser_Apple Mail              uint8\n",
      "browser_Arora                   uint8\n",
      "browser_Avant Browser           uint8\n",
      "browser_BlackBerry Browser      uint8\n",
      "browser_Camino                  uint8\n",
      "browser_Chrome                  uint8\n",
      "browser_Chrome Mobile           uint8\n",
      "browser_Chromium                uint8\n",
      "browser_CometBird               uint8\n",
      "browser_Comodo Dragon           uint8\n",
      "browser_Conkeror                uint8\n",
      "browser_CoolNovo                uint8\n",
      "browser_Crazy Browser           uint8\n",
      "browser_Epic                    uint8\n",
      "browser_Firefox                 uint8\n",
      "browser_Flock                   uint8\n",
      "browser_Google Earth            uint8\n",
      "browser_Googlebot               uint8\n",
      "browser_IE                      uint8\n",
      "browser_IE Mobile               uint8\n",
      "browser_IceDragon               uint8\n",
      "browser_IceWeasel               uint8\n",
      "browser_Iron                    uint8\n",
      "browser_Kindle Browser          uint8\n",
      "browser_Maxthon                 uint8\n",
      "browser_Mobile Firefox          uint8\n",
      "browser_Mobile Safari           uint8\n",
      "browser_Mozilla                 uint8\n",
      "browser_NetNewsWire             uint8\n",
      "browser_OmniWeb                 uint8\n",
      "browser_Opera                   uint8\n",
      "browser_Opera Mini              uint8\n",
      "browser_Opera Mobile            uint8\n",
      "browser_Outlook 2007            uint8\n",
      "browser_PS Vita browser         uint8\n",
      "browser_Pale Moon               uint8\n",
      "browser_Palm Pre web browser    uint8\n",
      "browser_RockMelt                uint8\n",
      "browser_Safari                  uint8\n",
      "browser_SeaMonkey               uint8\n",
      "browser_Silk                    uint8\n",
      "browser_SiteKiosk               uint8\n",
      "browser_SlimBrowser             uint8\n",
      "browser_Sogou Explorer          uint8\n",
      "browser_Stainless               uint8\n",
      "browser_TenFourFox              uint8\n",
      "browser_TheWorld Browser        uint8\n",
      "browser_Yandex.Browser          uint8\n",
      "browser_wOSBrowser              uint8\n",
      "gender_-unknown-                uint8\n",
      "gender_FEMALE                   uint8\n",
      "gender_MALE                     uint8\n",
      "gender_OTHER                    uint8\n",
      "su_basic                        uint8\n",
      "su_facebook                     uint8\n",
      "su_google                       uint8\n",
      "age_0.0                         uint8\n",
      "age_1.0                         uint8\n",
      "age_2.0                         uint8\n",
      "age_3.0                         uint8\n",
      "age_4.0                         uint8\n",
      "age_5.0                         uint8\n",
      "age_6.0                         uint8\n",
      "age_7.0                         uint8\n",
      "age_8.0                         uint8\n",
      "age_9.0                         uint8\n",
      "age_10.0                        uint8\n",
      "age_11.0                        uint8\n",
      "app_Android                     uint8\n",
      "app_Moweb                       uint8\n",
      "app_Web                         uint8\n",
      "app_iOS                         uint8\n",
      "dev_Android Phone               uint8\n",
      "dev_Android Tablet              uint8\n",
      "dev_Desktop (Other)             uint8\n",
      "dev_Mac Desktop                 uint8\n",
      "dev_Other/Unknown               uint8\n",
      "dev_SmartPhone (Other)          uint8\n",
      "dev_Windows Desktop             uint8\n",
      "dev_iPad                        uint8\n",
      "dev_iPhone                      uint8\n",
      "mo_1                            uint8\n",
      "mo_2                            uint8\n",
      "mo_3                            uint8\n",
      "mo_4                            uint8\n",
      "mo_5                            uint8\n",
      "mo_6                            uint8\n",
      "mo_7                            uint8\n",
      "mo_8                            uint8\n",
      "mo_9                            uint8\n",
      "mo_10                           uint8\n",
      "mo_11                           uint8\n",
      "mo_12                           uint8\n",
      "dow_0                           uint8\n",
      "dow_1                           uint8\n",
      "dow_2                           uint8\n",
      "dow_3                           uint8\n",
      "dow_4                           uint8\n",
      "dow_5                           uint8\n",
      "dow_6                           uint8\n",
      "season_1                        uint8\n",
      "season_2                        uint8\n",
      "season_3                        uint8\n",
      "season_4                        uint8\n",
      "browser_-unknown-               uint8\n",
      "browser_AOL Explorer            uint8\n",
      "browser_Android Browser         uint8\n",
      "browser_Apple Mail              uint8\n",
      "browser_Arora                   uint8\n",
      "browser_Avant Browser           uint8\n",
      "browser_BlackBerry Browser      uint8\n",
      "browser_Camino                  uint8\n",
      "browser_Chrome                  uint8\n",
      "browser_Chrome Mobile           uint8\n",
      "browser_Chromium                uint8\n",
      "browser_CometBird               uint8\n",
      "browser_Comodo Dragon           uint8\n",
      "browser_Conkeror                uint8\n",
      "browser_CoolNovo                uint8\n",
      "browser_Crazy Browser           uint8\n",
      "browser_Epic                    uint8\n",
      "browser_Firefox                 uint8\n",
      "browser_Flock                   uint8\n",
      "browser_Google Earth            uint8\n",
      "browser_Googlebot               uint8\n",
      "browser_IE                      uint8\n",
      "browser_IE Mobile               uint8\n",
      "browser_IceDragon               uint8\n",
      "browser_IceWeasel               uint8\n",
      "browser_Iron                    uint8\n",
      "browser_Kindle Browser          uint8\n",
      "browser_Maxthon                 uint8\n",
      "browser_Mobile Firefox          uint8\n",
      "browser_Mobile Safari           uint8\n",
      "browser_Mozilla                 uint8\n",
      "browser_NetNewsWire             uint8\n",
      "browser_OmniWeb                 uint8\n",
      "browser_Opera                   uint8\n",
      "browser_Opera Mini              uint8\n",
      "browser_Opera Mobile            uint8\n",
      "browser_Outlook 2007            uint8\n",
      "browser_PS Vita browser         uint8\n",
      "browser_Pale Moon               uint8\n",
      "browser_Palm Pre web browser    uint8\n",
      "browser_RockMelt                uint8\n",
      "browser_Safari                  uint8\n",
      "browser_SeaMonkey               uint8\n",
      "browser_Silk                    uint8\n",
      "browser_SiteKiosk               uint8\n",
      "browser_SlimBrowser             uint8\n",
      "browser_Sogou Explorer          uint8\n",
      "browser_Stainless               uint8\n",
      "browser_TenFourFox              uint8\n",
      "browser_TheWorld Browser        uint8\n",
      "browser_Yandex.Browser          uint8\n",
      "browser_wOSBrowser              uint8\n",
      "dtypes: datetime64[ns](3), float64(4), int64(5), object(11), uint8(269)\n",
      "memory usage: 92.2+ MB\n"
     ]
    }
   ],
   "source": [
    "users.info(verbose=True)"
   ]
  },
  {
   "cell_type": "code",
   "execution_count": null,
   "metadata": {
    "collapsed": true
   },
   "outputs": [],
   "source": [
    "# users[['']]"
   ]
  },
  {
   "cell_type": "code",
   "execution_count": 112,
   "metadata": {
    "collapsed": false
   },
   "outputs": [
    {
     "name": "stdout",
     "output_type": "stream",
     "text": [
      "<class 'pandas.core.frame.DataFrame'>\n",
      "Int64Index: 50843 entries, 140264 to 132803\n",
      "Data columns (total 271 columns):\n",
      "diff_created_active             float64\n",
      "diff_created_booked             float64\n",
      "gender_-unknown-                uint8\n",
      "gender_FEMALE                   uint8\n",
      "gender_MALE                     uint8\n",
      "gender_OTHER                    uint8\n",
      "su_basic                        uint8\n",
      "su_facebook                     uint8\n",
      "su_google                       uint8\n",
      "age_0.0                         uint8\n",
      "age_1.0                         uint8\n",
      "age_2.0                         uint8\n",
      "age_3.0                         uint8\n",
      "age_4.0                         uint8\n",
      "age_5.0                         uint8\n",
      "age_6.0                         uint8\n",
      "age_7.0                         uint8\n",
      "age_8.0                         uint8\n",
      "age_9.0                         uint8\n",
      "age_10.0                        uint8\n",
      "age_11.0                        uint8\n",
      "app_Android                     uint8\n",
      "app_Moweb                       uint8\n",
      "app_Web                         uint8\n",
      "app_iOS                         uint8\n",
      "dev_Android Phone               uint8\n",
      "dev_Android Tablet              uint8\n",
      "dev_Desktop (Other)             uint8\n",
      "dev_Mac Desktop                 uint8\n",
      "dev_Other/Unknown               uint8\n",
      "dev_SmartPhone (Other)          uint8\n",
      "dev_Windows Desktop             uint8\n",
      "dev_iPad                        uint8\n",
      "dev_iPhone                      uint8\n",
      "mo_1                            uint8\n",
      "mo_2                            uint8\n",
      "mo_3                            uint8\n",
      "mo_4                            uint8\n",
      "mo_5                            uint8\n",
      "mo_6                            uint8\n",
      "mo_7                            uint8\n",
      "mo_8                            uint8\n",
      "mo_9                            uint8\n",
      "mo_10                           uint8\n",
      "mo_11                           uint8\n",
      "mo_12                           uint8\n",
      "dow_0                           uint8\n",
      "dow_1                           uint8\n",
      "dow_2                           uint8\n",
      "dow_3                           uint8\n",
      "dow_4                           uint8\n",
      "dow_5                           uint8\n",
      "dow_6                           uint8\n",
      "season_1                        uint8\n",
      "season_2                        uint8\n",
      "season_3                        uint8\n",
      "season_4                        uint8\n",
      "gender_-unknown-                uint8\n",
      "gender_FEMALE                   uint8\n",
      "gender_MALE                     uint8\n",
      "gender_OTHER                    uint8\n",
      "su_basic                        uint8\n",
      "su_facebook                     uint8\n",
      "su_google                       uint8\n",
      "age_0.0                         uint8\n",
      "age_1.0                         uint8\n",
      "age_2.0                         uint8\n",
      "age_3.0                         uint8\n",
      "age_4.0                         uint8\n",
      "age_5.0                         uint8\n",
      "age_6.0                         uint8\n",
      "age_7.0                         uint8\n",
      "age_8.0                         uint8\n",
      "age_9.0                         uint8\n",
      "age_10.0                        uint8\n",
      "age_11.0                        uint8\n",
      "app_Android                     uint8\n",
      "app_Moweb                       uint8\n",
      "app_Web                         uint8\n",
      "app_iOS                         uint8\n",
      "dev_Android Phone               uint8\n",
      "dev_Android Tablet              uint8\n",
      "dev_Desktop (Other)             uint8\n",
      "dev_Mac Desktop                 uint8\n",
      "dev_Other/Unknown               uint8\n",
      "dev_SmartPhone (Other)          uint8\n",
      "dev_Windows Desktop             uint8\n",
      "dev_iPad                        uint8\n",
      "dev_iPhone                      uint8\n",
      "mo_1                            uint8\n",
      "mo_2                            uint8\n",
      "mo_3                            uint8\n",
      "mo_4                            uint8\n",
      "mo_5                            uint8\n",
      "mo_6                            uint8\n",
      "mo_7                            uint8\n",
      "mo_8                            uint8\n",
      "mo_9                            uint8\n",
      "mo_10                           uint8\n",
      "mo_11                           uint8\n",
      "mo_12                           uint8\n",
      "dow_0                           uint8\n",
      "dow_1                           uint8\n",
      "dow_2                           uint8\n",
      "dow_3                           uint8\n",
      "dow_4                           uint8\n",
      "dow_5                           uint8\n",
      "dow_6                           uint8\n",
      "season_1                        uint8\n",
      "season_2                        uint8\n",
      "season_3                        uint8\n",
      "season_4                        uint8\n",
      "browser_-unknown-               uint8\n",
      "browser_AOL Explorer            uint8\n",
      "browser_Android Browser         uint8\n",
      "browser_Apple Mail              uint8\n",
      "browser_Arora                   uint8\n",
      "browser_Avant Browser           uint8\n",
      "browser_BlackBerry Browser      uint8\n",
      "browser_Camino                  uint8\n",
      "browser_Chrome                  uint8\n",
      "browser_Chrome Mobile           uint8\n",
      "browser_Chromium                uint8\n",
      "browser_CometBird               uint8\n",
      "browser_Comodo Dragon           uint8\n",
      "browser_Conkeror                uint8\n",
      "browser_CoolNovo                uint8\n",
      "browser_Crazy Browser           uint8\n",
      "browser_Epic                    uint8\n",
      "browser_Firefox                 uint8\n",
      "browser_Flock                   uint8\n",
      "browser_Google Earth            uint8\n",
      "browser_Googlebot               uint8\n",
      "browser_IE                      uint8\n",
      "browser_IE Mobile               uint8\n",
      "browser_IceDragon               uint8\n",
      "browser_IceWeasel               uint8\n",
      "browser_Iron                    uint8\n",
      "browser_Kindle Browser          uint8\n",
      "browser_Maxthon                 uint8\n",
      "browser_Mobile Firefox          uint8\n",
      "browser_Mobile Safari           uint8\n",
      "browser_Mozilla                 uint8\n",
      "browser_NetNewsWire             uint8\n",
      "browser_OmniWeb                 uint8\n",
      "browser_Opera                   uint8\n",
      "browser_Opera Mini              uint8\n",
      "browser_Opera Mobile            uint8\n",
      "browser_Outlook 2007            uint8\n",
      "browser_PS Vita browser         uint8\n",
      "browser_Pale Moon               uint8\n",
      "browser_Palm Pre web browser    uint8\n",
      "browser_RockMelt                uint8\n",
      "browser_Safari                  uint8\n",
      "browser_SeaMonkey               uint8\n",
      "browser_Silk                    uint8\n",
      "browser_SiteKiosk               uint8\n",
      "browser_SlimBrowser             uint8\n",
      "browser_Sogou Explorer          uint8\n",
      "browser_Stainless               uint8\n",
      "browser_TenFourFox              uint8\n",
      "browser_TheWorld Browser        uint8\n",
      "browser_Yandex.Browser          uint8\n",
      "browser_wOSBrowser              uint8\n",
      "gender_-unknown-                uint8\n",
      "gender_FEMALE                   uint8\n",
      "gender_MALE                     uint8\n",
      "gender_OTHER                    uint8\n",
      "su_basic                        uint8\n",
      "su_facebook                     uint8\n",
      "su_google                       uint8\n",
      "age_0.0                         uint8\n",
      "age_1.0                         uint8\n",
      "age_2.0                         uint8\n",
      "age_3.0                         uint8\n",
      "age_4.0                         uint8\n",
      "age_5.0                         uint8\n",
      "age_6.0                         uint8\n",
      "age_7.0                         uint8\n",
      "age_8.0                         uint8\n",
      "age_9.0                         uint8\n",
      "age_10.0                        uint8\n",
      "age_11.0                        uint8\n",
      "app_Android                     uint8\n",
      "app_Moweb                       uint8\n",
      "app_Web                         uint8\n",
      "app_iOS                         uint8\n",
      "dev_Android Phone               uint8\n",
      "dev_Android Tablet              uint8\n",
      "dev_Desktop (Other)             uint8\n",
      "dev_Mac Desktop                 uint8\n",
      "dev_Other/Unknown               uint8\n",
      "dev_SmartPhone (Other)          uint8\n",
      "dev_Windows Desktop             uint8\n",
      "dev_iPad                        uint8\n",
      "dev_iPhone                      uint8\n",
      "mo_1                            uint8\n",
      "mo_2                            uint8\n",
      "mo_3                            uint8\n",
      "mo_4                            uint8\n",
      "mo_5                            uint8\n",
      "mo_6                            uint8\n",
      "mo_7                            uint8\n",
      "mo_8                            uint8\n",
      "mo_9                            uint8\n",
      "mo_10                           uint8\n",
      "mo_11                           uint8\n",
      "mo_12                           uint8\n",
      "dow_0                           uint8\n",
      "dow_1                           uint8\n",
      "dow_2                           uint8\n",
      "dow_3                           uint8\n",
      "dow_4                           uint8\n",
      "dow_5                           uint8\n",
      "dow_6                           uint8\n",
      "season_1                        uint8\n",
      "season_2                        uint8\n",
      "season_3                        uint8\n",
      "season_4                        uint8\n",
      "browser_-unknown-               uint8\n",
      "browser_AOL Explorer            uint8\n",
      "browser_Android Browser         uint8\n",
      "browser_Apple Mail              uint8\n",
      "browser_Arora                   uint8\n",
      "browser_Avant Browser           uint8\n",
      "browser_BlackBerry Browser      uint8\n",
      "browser_Camino                  uint8\n",
      "browser_Chrome                  uint8\n",
      "browser_Chrome Mobile           uint8\n",
      "browser_Chromium                uint8\n",
      "browser_CometBird               uint8\n",
      "browser_Comodo Dragon           uint8\n",
      "browser_Conkeror                uint8\n",
      "browser_CoolNovo                uint8\n",
      "browser_Crazy Browser           uint8\n",
      "browser_Epic                    uint8\n",
      "browser_Firefox                 uint8\n",
      "browser_Flock                   uint8\n",
      "browser_Google Earth            uint8\n",
      "browser_Googlebot               uint8\n",
      "browser_IE                      uint8\n",
      "browser_IE Mobile               uint8\n",
      "browser_IceDragon               uint8\n",
      "browser_IceWeasel               uint8\n",
      "browser_Iron                    uint8\n",
      "browser_Kindle Browser          uint8\n",
      "browser_Maxthon                 uint8\n",
      "browser_Mobile Firefox          uint8\n",
      "browser_Mobile Safari           uint8\n",
      "browser_Mozilla                 uint8\n",
      "browser_NetNewsWire             uint8\n",
      "browser_OmniWeb                 uint8\n",
      "browser_Opera                   uint8\n",
      "browser_Opera Mini              uint8\n",
      "browser_Opera Mobile            uint8\n",
      "browser_Outlook 2007            uint8\n",
      "browser_PS Vita browser         uint8\n",
      "browser_Pale Moon               uint8\n",
      "browser_Palm Pre web browser    uint8\n",
      "browser_RockMelt                uint8\n",
      "browser_Safari                  uint8\n",
      "browser_SeaMonkey               uint8\n",
      "browser_Silk                    uint8\n",
      "browser_SiteKiosk               uint8\n",
      "browser_SlimBrowser             uint8\n",
      "browser_Sogou Explorer          uint8\n",
      "browser_Stainless               uint8\n",
      "browser_TenFourFox              uint8\n",
      "browser_TheWorld Browser        uint8\n",
      "browser_Yandex.Browser          uint8\n",
      "browser_wOSBrowser              uint8\n",
      "dtypes: float64(2), uint8(269)\n",
      "memory usage: 14.2 MB\n"
     ]
    }
   ],
   "source": [
    "from sklearn.cross_validation import train_test_split\n",
    "users_m1 = users.drop(['date_first_booking'], axis=1)\n",
    "users_m1 = users_m1.dropna(how=\"any\")\n",
    "X = users2.drop(['id','country_destination','age', 'age_decade', 'booked', 'date_account_created', 'timestamp_first_active', \n",
    "                'date_first_booking', 'gender', 'signup_method', 'signup_flow', 'language', \n",
    "                'affiliate_channel', 'affiliate_provider', 'first_affiliate_tracked', \n",
    "                'signup_app', 'first_device_type', 'first_browser', 'account_created_month', \n",
    "                'account_created_dow', 'account_created_season', 'diff_created_booked'], axis=1)\n",
    "y = users_m1.booked\n",
    "X_train, X_test, y_train, y_test = train_test_split(X, y, train_size=0.75, random_state=0)\n",
    "X_train.info(verbose=True)"
   ]
  },
  {
   "cell_type": "code",
   "execution_count": 109,
   "metadata": {
    "collapsed": false
   },
   "outputs": [
    {
     "name": "stdout",
     "output_type": "stream",
     "text": [
      "False\n",
      "(67791, 271)\n",
      "False\n",
      "(67791,)\n",
      "1    67791\n",
      "Name: booked, dtype: int64\n"
     ]
    }
   ],
   "source": [
    "print X.isnull().values.any()\n",
    "print X.shape\n",
    "print y.isnull().values.any()\n",
    "print y.shape\n",
    "print y.value_counts()"
   ]
  },
  {
   "cell_type": "code",
   "execution_count": 98,
   "metadata": {
    "collapsed": false
   },
   "outputs": [
    {
     "data": {
      "text/plain": [
       "196195    1\n",
       "41384     0\n",
       "200194    1\n",
       "200206    1\n",
       "76031     1\n",
       "Name: booked, dtype: int64"
      ]
     },
     "execution_count": 98,
     "metadata": {},
     "output_type": "execute_result"
    }
   ],
   "source": [
    "# users_clean = users[['id', 'gender', 'booked']].dropna(how='any')\n",
    "# g = sns.factorplot('gender', data=users_clean, hue='booked', kind='count', aspect=2)\n",
    "# g.set_xlabels('Gender')\n",
    "y_train.head()"
   ]
  },
  {
   "cell_type": "code",
   "execution_count": 99,
   "metadata": {
    "collapsed": false
   },
   "outputs": [
    {
     "ename": "ValueError",
     "evalue": "Input contains NaN, infinity or a value too large for dtype('float64').",
     "output_type": "error",
     "traceback": [
      "\u001b[0;31m---------------------------------------------------------------------------\u001b[0m",
      "\u001b[0;31mValueError\u001b[0m                                Traceback (most recent call last)",
      "\u001b[0;32m<ipython-input-99-ed78e4477d84>\u001b[0m in \u001b[0;36m<module>\u001b[0;34m()\u001b[0m\n\u001b[1;32m      1\u001b[0m \u001b[0;32mfrom\u001b[0m \u001b[0msklearn\u001b[0m\u001b[0;34m.\u001b[0m\u001b[0mlinear_model\u001b[0m \u001b[0;32mimport\u001b[0m \u001b[0mLogisticRegression\u001b[0m\u001b[0;34m\u001b[0m\u001b[0m\n\u001b[1;32m      2\u001b[0m \u001b[0mlm\u001b[0m \u001b[0;34m=\u001b[0m \u001b[0mLogisticRegression\u001b[0m\u001b[0;34m(\u001b[0m\u001b[0;34m)\u001b[0m\u001b[0;34m\u001b[0m\u001b[0m\n\u001b[0;32m----> 3\u001b[0;31m \u001b[0mlm\u001b[0m\u001b[0;34m.\u001b[0m\u001b[0mfit\u001b[0m\u001b[0;34m(\u001b[0m\u001b[0mX_train\u001b[0m\u001b[0;34m,\u001b[0m \u001b[0my_train\u001b[0m\u001b[0;34m)\u001b[0m\u001b[0;34m\u001b[0m\u001b[0m\n\u001b[0m\u001b[1;32m      4\u001b[0m \u001b[0;32mprint\u001b[0m \u001b[0mlm\u001b[0m\u001b[0;34m.\u001b[0m\u001b[0mcoef_\u001b[0m\u001b[0;34m\u001b[0m\u001b[0m\n\u001b[1;32m      5\u001b[0m \u001b[0;32mprint\u001b[0m \u001b[0mlm\u001b[0m\u001b[0;34m.\u001b[0m\u001b[0mintercept\u001b[0m\u001b[0;34m\u001b[0m\u001b[0m\n",
      "\u001b[0;32m/Users/MattCano/anaconda2/envs/bishops/lib/python2.7/site-packages/sklearn/linear_model/logistic.pyc\u001b[0m in \u001b[0;36mfit\u001b[0;34m(self, X, y, sample_weight)\u001b[0m\n\u001b[1;32m   1172\u001b[0m \u001b[0;34m\u001b[0m\u001b[0m\n\u001b[1;32m   1173\u001b[0m         X, y = check_X_y(X, y, accept_sparse='csr', dtype=np.float64,\n\u001b[0;32m-> 1174\u001b[0;31m                          order=\"C\")\n\u001b[0m\u001b[1;32m   1175\u001b[0m         \u001b[0mcheck_classification_targets\u001b[0m\u001b[0;34m(\u001b[0m\u001b[0my\u001b[0m\u001b[0;34m)\u001b[0m\u001b[0;34m\u001b[0m\u001b[0m\n\u001b[1;32m   1176\u001b[0m         \u001b[0mself\u001b[0m\u001b[0;34m.\u001b[0m\u001b[0mclasses_\u001b[0m \u001b[0;34m=\u001b[0m \u001b[0mnp\u001b[0m\u001b[0;34m.\u001b[0m\u001b[0munique\u001b[0m\u001b[0;34m(\u001b[0m\u001b[0my\u001b[0m\u001b[0;34m)\u001b[0m\u001b[0;34m\u001b[0m\u001b[0m\n",
      "\u001b[0;32m/Users/MattCano/anaconda2/envs/bishops/lib/python2.7/site-packages/sklearn/utils/validation.pyc\u001b[0m in \u001b[0;36mcheck_X_y\u001b[0;34m(X, y, accept_sparse, dtype, order, copy, force_all_finite, ensure_2d, allow_nd, multi_output, ensure_min_samples, ensure_min_features, y_numeric, warn_on_dtype, estimator)\u001b[0m\n\u001b[1;32m    519\u001b[0m     X = check_array(X, accept_sparse, dtype, order, copy, force_all_finite,\n\u001b[1;32m    520\u001b[0m                     \u001b[0mensure_2d\u001b[0m\u001b[0;34m,\u001b[0m \u001b[0mallow_nd\u001b[0m\u001b[0;34m,\u001b[0m \u001b[0mensure_min_samples\u001b[0m\u001b[0;34m,\u001b[0m\u001b[0;34m\u001b[0m\u001b[0m\n\u001b[0;32m--> 521\u001b[0;31m                     ensure_min_features, warn_on_dtype, estimator)\n\u001b[0m\u001b[1;32m    522\u001b[0m     \u001b[0;32mif\u001b[0m \u001b[0mmulti_output\u001b[0m\u001b[0;34m:\u001b[0m\u001b[0;34m\u001b[0m\u001b[0m\n\u001b[1;32m    523\u001b[0m         y = check_array(y, 'csr', force_all_finite=True, ensure_2d=False,\n",
      "\u001b[0;32m/Users/MattCano/anaconda2/envs/bishops/lib/python2.7/site-packages/sklearn/utils/validation.pyc\u001b[0m in \u001b[0;36mcheck_array\u001b[0;34m(array, accept_sparse, dtype, order, copy, force_all_finite, ensure_2d, allow_nd, ensure_min_samples, ensure_min_features, warn_on_dtype, estimator)\u001b[0m\n\u001b[1;32m    405\u001b[0m                              % (array.ndim, estimator_name))\n\u001b[1;32m    406\u001b[0m         \u001b[0;32mif\u001b[0m \u001b[0mforce_all_finite\u001b[0m\u001b[0;34m:\u001b[0m\u001b[0;34m\u001b[0m\u001b[0m\n\u001b[0;32m--> 407\u001b[0;31m             \u001b[0m_assert_all_finite\u001b[0m\u001b[0;34m(\u001b[0m\u001b[0marray\u001b[0m\u001b[0;34m)\u001b[0m\u001b[0;34m\u001b[0m\u001b[0m\n\u001b[0m\u001b[1;32m    408\u001b[0m \u001b[0;34m\u001b[0m\u001b[0m\n\u001b[1;32m    409\u001b[0m     \u001b[0mshape_repr\u001b[0m \u001b[0;34m=\u001b[0m \u001b[0m_shape_repr\u001b[0m\u001b[0;34m(\u001b[0m\u001b[0marray\u001b[0m\u001b[0;34m.\u001b[0m\u001b[0mshape\u001b[0m\u001b[0;34m)\u001b[0m\u001b[0;34m\u001b[0m\u001b[0m\n",
      "\u001b[0;32m/Users/MattCano/anaconda2/envs/bishops/lib/python2.7/site-packages/sklearn/utils/validation.pyc\u001b[0m in \u001b[0;36m_assert_all_finite\u001b[0;34m(X)\u001b[0m\n\u001b[1;32m     56\u001b[0m             and not np.isfinite(X).all()):\n\u001b[1;32m     57\u001b[0m         raise ValueError(\"Input contains NaN, infinity\"\n\u001b[0;32m---> 58\u001b[0;31m                          \" or a value too large for %r.\" % X.dtype)\n\u001b[0m\u001b[1;32m     59\u001b[0m \u001b[0;34m\u001b[0m\u001b[0m\n\u001b[1;32m     60\u001b[0m \u001b[0;34m\u001b[0m\u001b[0m\n",
      "\u001b[0;31mValueError\u001b[0m: Input contains NaN, infinity or a value too large for dtype('float64')."
     ]
    }
   ],
   "source": [
    "from sklearn.linear_model import LogisticRegression\n",
    "lm = LogisticRegression()\n",
    "lm.fit(X_train, y_train)\n",
    "print lm.coef_\n",
    "print lm.intercept"
   ]
  },
  {
   "cell_type": "markdown",
   "metadata": {},
   "source": [
    "# Model #2: Predicting Country of Booking"
   ]
  },
  {
   "cell_type": "code",
   "execution_count": null,
   "metadata": {
    "collapsed": true
   },
   "outputs": [],
   "source": []
  },
  {
   "cell_type": "code",
   "execution_count": 210,
   "metadata": {
    "collapsed": false
   },
   "outputs": [
    {
     "name": "stdout",
     "output_type": "stream",
     "text": [
      "<class 'pandas.core.frame.DataFrame'>\n",
      "Int64Index: 50843 entries, 140264 to 132803\n",
      "Data columns (total 108 columns):\n",
      "diff_created_active             float64\n",
      "gender_-unknown-                uint8\n",
      "gender_FEMALE                   uint8\n",
      "gender_MALE                     uint8\n",
      "gender_OTHER                    uint8\n",
      "su_basic                        uint8\n",
      "su_facebook                     uint8\n",
      "su_google                       uint8\n",
      "age_0.0                         uint8\n",
      "age_1.0                         uint8\n",
      "age_2.0                         uint8\n",
      "age_3.0                         uint8\n",
      "age_4.0                         uint8\n",
      "age_5.0                         uint8\n",
      "age_6.0                         uint8\n",
      "age_7.0                         uint8\n",
      "age_8.0                         uint8\n",
      "age_9.0                         uint8\n",
      "age_10.0                        uint8\n",
      "age_11.0                        uint8\n",
      "app_Android                     uint8\n",
      "app_Moweb                       uint8\n",
      "app_Web                         uint8\n",
      "app_iOS                         uint8\n",
      "dev_Android Phone               uint8\n",
      "dev_Android Tablet              uint8\n",
      "dev_Desktop (Other)             uint8\n",
      "dev_Mac Desktop                 uint8\n",
      "dev_Other/Unknown               uint8\n",
      "dev_SmartPhone (Other)          uint8\n",
      "dev_Windows Desktop             uint8\n",
      "dev_iPad                        uint8\n",
      "dev_iPhone                      uint8\n",
      "mo_1                            uint8\n",
      "mo_2                            uint8\n",
      "mo_3                            uint8\n",
      "mo_4                            uint8\n",
      "mo_5                            uint8\n",
      "mo_6                            uint8\n",
      "mo_7                            uint8\n",
      "mo_8                            uint8\n",
      "mo_9                            uint8\n",
      "mo_10                           uint8\n",
      "mo_11                           uint8\n",
      "mo_12                           uint8\n",
      "dow_0                           uint8\n",
      "dow_1                           uint8\n",
      "dow_2                           uint8\n",
      "dow_3                           uint8\n",
      "dow_4                           uint8\n",
      "dow_5                           uint8\n",
      "dow_6                           uint8\n",
      "season_1                        uint8\n",
      "season_2                        uint8\n",
      "season_3                        uint8\n",
      "season_4                        uint8\n",
      "browser_-unknown-               uint8\n",
      "browser_AOL Explorer            uint8\n",
      "browser_Android Browser         uint8\n",
      "browser_Apple Mail              uint8\n",
      "browser_Arora                   uint8\n",
      "browser_Avant Browser           uint8\n",
      "browser_BlackBerry Browser      uint8\n",
      "browser_Camino                  uint8\n",
      "browser_Chrome                  uint8\n",
      "browser_Chrome Mobile           uint8\n",
      "browser_Chromium                uint8\n",
      "browser_CometBird               uint8\n",
      "browser_Comodo Dragon           uint8\n",
      "browser_Conkeror                uint8\n",
      "browser_CoolNovo                uint8\n",
      "browser_Crazy Browser           uint8\n",
      "browser_Epic                    uint8\n",
      "browser_Firefox                 uint8\n",
      "browser_Flock                   uint8\n",
      "browser_Google Earth            uint8\n",
      "browser_Googlebot               uint8\n",
      "browser_IE                      uint8\n",
      "browser_IE Mobile               uint8\n",
      "browser_IceDragon               uint8\n",
      "browser_IceWeasel               uint8\n",
      "browser_Iron                    uint8\n",
      "browser_Kindle Browser          uint8\n",
      "browser_Maxthon                 uint8\n",
      "browser_Mobile Firefox          uint8\n",
      "browser_Mobile Safari           uint8\n",
      "browser_Mozilla                 uint8\n",
      "browser_NetNewsWire             uint8\n",
      "browser_OmniWeb                 uint8\n",
      "browser_Opera                   uint8\n",
      "browser_Opera Mini              uint8\n",
      "browser_Opera Mobile            uint8\n",
      "browser_Outlook 2007            uint8\n",
      "browser_PS Vita browser         uint8\n",
      "browser_Pale Moon               uint8\n",
      "browser_Palm Pre web browser    uint8\n",
      "browser_RockMelt                uint8\n",
      "browser_Safari                  uint8\n",
      "browser_SeaMonkey               uint8\n",
      "browser_Silk                    uint8\n",
      "browser_SiteKiosk               uint8\n",
      "browser_SlimBrowser             uint8\n",
      "browser_Sogou Explorer          uint8\n",
      "browser_Stainless               uint8\n",
      "browser_TenFourFox              uint8\n",
      "browser_TheWorld Browser        uint8\n",
      "browser_Yandex.Browser          uint8\n",
      "browser_wOSBrowser              uint8\n",
      "dtypes: float64(1), uint8(107)\n",
      "memory usage: 6.0 MB\n"
     ]
    }
   ],
   "source": [
    "users2 = users.dropna(how=\"any\")\n",
    "X2 = users2.drop(['id', 'country_destination','age','age_decade', 'date_account_created', 'timestamp_first_active', \n",
    "                'date_first_booking', 'gender', 'signup_method', 'signup_flow', 'language', \n",
    "                'affiliate_channel', 'affiliate_provider', 'first_affiliate_tracked', \n",
    "                'signup_app', 'first_device_type', 'first_browser', 'account_created_month', \n",
    "                'account_created_dow', 'account_created_season', 'diff_created_booked'], axis=1)\n",
    "y2 = users2.country_destination\n",
    "X2_train, X2_test, y2_train, y2_test = train_test_split(X2, y2, train_size=0.75, random_state=0)\n",
    "X2_train.info(verbose=True)"
   ]
  },
  {
   "cell_type": "code",
   "execution_count": 211,
   "metadata": {
    "collapsed": false
   },
   "outputs": [
    {
     "name": "stdout",
     "output_type": "stream",
     "text": [
      "False\n",
      "(67791, 108)\n",
      "False\n",
      "(67791,)\n",
      "US       48059\n",
      "other     7512\n",
      "FR        3669\n",
      "IT        2016\n",
      "GB        1758\n",
      "ES        1686\n",
      "CA        1064\n",
      "DE         842\n",
      "NL         595\n",
      "AU         433\n",
      "PT         157\n",
      "Name: country_destination, dtype: int64\n"
     ]
    }
   ],
   "source": [
    "print X2.isnull().values.any()\n",
    "print X2.shape\n",
    "print y2.isnull().values.any()\n",
    "print y2.shape\n",
    "print y2.value_counts()"
   ]
  },
  {
   "cell_type": "code",
   "execution_count": 212,
   "metadata": {
    "collapsed": false
   },
   "outputs": [
    {
     "data": {
      "text/plain": [
       "2       US\n",
       "3    other\n",
       "4       US\n",
       "6       US\n",
       "7       US\n",
       "Name: country_destination, dtype: object"
      ]
     },
     "execution_count": 212,
     "metadata": {},
     "output_type": "execute_result"
    }
   ],
   "source": [
    "y2.head()"
   ]
  },
  {
   "cell_type": "code",
   "execution_count": 213,
   "metadata": {
    "collapsed": false
   },
   "outputs": [
    {
     "data": {
      "text/plain": [
       "LogisticRegression(C=1.0, class_weight=None, dual=False, fit_intercept=True,\n",
       "          intercept_scaling=1, max_iter=100, multi_class='ovr', n_jobs=1,\n",
       "          penalty='l2', random_state=None, solver='liblinear', tol=0.0001,\n",
       "          verbose=0, warm_start=False)"
      ]
     },
     "execution_count": 213,
     "metadata": {},
     "output_type": "execute_result"
    }
   ],
   "source": [
    "from sklearn import datasets\n",
    "from sklearn import metrics\n",
    "from sklearn.linear_model import LogisticRegression\n",
    "lm2 = LogisticRegression(multi_class='ovr')\n",
    "lm2.fit(X2_train, y2_train)"
   ]
  },
  {
   "cell_type": "code",
   "execution_count": 214,
   "metadata": {
    "collapsed": false
   },
   "outputs": [
    {
     "name": "stdout",
     "output_type": "stream",
     "text": [
      "[[  2.79355077e-04  -6.43285609e-01  -3.25751120e-01 ...,  -9.61338747e-03\n",
      "   -2.92251977e-03   0.00000000e+00]\n",
      " [  5.35037993e-04  -6.40911387e-01  -6.00379457e-01 ...,  -3.90383506e-02\n",
      "   -1.67495383e-02   0.00000000e+00]\n",
      " [ -1.04276580e-04  -6.55076208e-01  -5.77527020e-01 ...,  -1.38405766e-02\n",
      "   -1.41888713e-02   0.00000000e+00]\n",
      " ..., \n",
      " [  9.76378178e-04  -7.37597248e-01  -8.23990053e-01 ...,  -4.08605374e-03\n",
      "   -3.46658283e-03   0.00000000e+00]\n",
      " [ -3.58761557e-05   2.33097375e-01   1.65860493e-01 ...,  -3.22088163e-01\n",
      "   -5.67774385e-01   0.00000000e+00]\n",
      " [  8.41869968e-05  -2.19826666e-01  -3.33690450e-01 ...,  -1.79842137e-01\n",
      "    7.60685176e-01   0.00000000e+00]]\n",
      "[-1.95654199 -1.52218516 -1.68408602 -1.69189962 -1.27051254 -1.6821346\n",
      " -1.35250746 -1.79546724 -2.01293361  0.49681662 -0.80645318]\n"
     ]
    }
   ],
   "source": [
    "print lm2.coef_\n",
    "print lm2.intercept_"
   ]
  },
  {
   "cell_type": "code",
   "execution_count": 215,
   "metadata": {
    "collapsed": true
   },
   "outputs": [],
   "source": [
    "# Make predictions\n",
    "expected = y2_test\n",
    "predicted = lm2.predict(X2_test)"
   ]
  },
  {
   "cell_type": "code",
   "execution_count": 216,
   "metadata": {
    "collapsed": false
   },
   "outputs": [
    {
     "name": "stdout",
     "output_type": "stream",
     "text": [
      "             precision    recall  f1-score   support\n",
      "\n",
      "         AU       0.00      0.00      0.00       123\n",
      "         CA       0.00      0.00      0.00       269\n",
      "         DE       0.00      0.00      0.00       212\n",
      "         ES       0.00      0.00      0.00       458\n",
      "         FR       0.00      0.00      0.00       907\n",
      "         GB       0.00      0.00      0.00       469\n",
      "         IT       0.00      0.00      0.00       487\n",
      "         NL       0.00      0.00      0.00       157\n",
      "         PT       0.00      0.00      0.00        50\n",
      "         US       0.70      1.00      0.82     11874\n",
      "      other       0.00      0.00      0.00      1942\n",
      "\n",
      "avg / total       0.49      0.70      0.58     16948\n",
      "\n",
      "[[    0     0     0     0     0     0     0     0     0   123     0]\n",
      " [    0     0     0     0     0     0     0     0     0   269     0]\n",
      " [    0     0     0     0     0     0     0     0     0   212     0]\n",
      " [    0     0     0     0     0     0     0     0     0   458     0]\n",
      " [    0     0     0     0     0     0     0     0     0   907     0]\n",
      " [    0     0     0     0     0     0     0     0     0   469     0]\n",
      " [    0     0     0     0     0     0     0     0     0   487     0]\n",
      " [    0     0     0     0     0     0     0     0     0   157     0]\n",
      " [    0     0     0     0     0     0     0     0     0    50     0]\n",
      " [    0     0     0     0     0     0     0     0     0 11874     0]\n",
      " [    0     0     0     0     0     0     0     0     0  1942     0]]\n"
     ]
    }
   ],
   "source": [
    "# Summarize the fit of the model\n",
    "print(metrics.classification_report(expected, predicted))\n",
    "print(metrics.confusion_matrix(expected, predicted))"
   ]
  },
  {
   "cell_type": "code",
   "execution_count": 236,
   "metadata": {
    "collapsed": false
   },
   "outputs": [
    {
     "name": "stdout",
     "output_type": "stream",
     "text": [
      "Logistic Regression CV score:  0.708929099445\n"
     ]
    }
   ],
   "source": [
    "lm3 = LogisticRegression(multi_class='ovr')\n",
    "# Cross-Validated Score for the Logistic Regression Model with 10 folds\n",
    "scores_lm3 = cross_val_score(lm3, X2, y2, cv=10, scoring='accuracy')\n",
    "print \"Logistic Regression CV score: \", scores_lm3.mean()"
   ]
  },
  {
   "cell_type": "code",
   "execution_count": 239,
   "metadata": {
    "collapsed": false
   },
   "outputs": [],
   "source": [
    "# No Feature Importances with Logistic Regresssions"
   ]
  },
  {
   "cell_type": "markdown",
   "metadata": {},
   "source": [
    "## KNN for Model #2"
   ]
  },
  {
   "cell_type": "code",
   "execution_count": 123,
   "metadata": {
    "collapsed": true
   },
   "outputs": [],
   "source": [
    "from sklearn.neighbors import KNeighborsClassifier"
   ]
  },
  {
   "cell_type": "code",
   "execution_count": 240,
   "metadata": {
    "collapsed": false
   },
   "outputs": [
    {
     "data": {
      "text/plain": [
       "KNeighborsClassifier(algorithm='auto', leaf_size=30, metric='minkowski',\n",
       "           metric_params=None, n_jobs=1, n_neighbors=15, p=2,\n",
       "           weights='uniform')"
      ]
     },
     "execution_count": 240,
     "metadata": {},
     "output_type": "execute_result"
    }
   ],
   "source": [
    "# make an instance of a KNeighborsClassifier object\n",
    "knn = KNeighborsClassifier(n_neighbors=15)\n",
    "# and fit the model\n",
    "knn.fit(X2_train, y2_train)"
   ]
  },
  {
   "cell_type": "code",
   "execution_count": 241,
   "metadata": {
    "collapsed": true
   },
   "outputs": [],
   "source": [
    "# Make predictions\n",
    "expected = y2_test\n",
    "predicted_knn = knn.predict(X2_test)"
   ]
  },
  {
   "cell_type": "code",
   "execution_count": 242,
   "metadata": {
    "collapsed": false
   },
   "outputs": [
    {
     "name": "stdout",
     "output_type": "stream",
     "text": [
      "             precision    recall  f1-score   support\n",
      "\n",
      "         AU       0.00      0.00      0.00       123\n",
      "         CA       0.00      0.00      0.00       269\n",
      "         DE       0.00      0.00      0.00       212\n",
      "         ES       0.00      0.00      0.00       458\n",
      "         FR       0.00      0.00      0.00       907\n",
      "         GB       0.00      0.00      0.00       469\n",
      "         IT       0.00      0.00      0.00       487\n",
      "         NL       0.00      0.00      0.00       157\n",
      "         PT       0.00      0.00      0.00        50\n",
      "         US       0.70      1.00      0.82     11874\n",
      "      other       0.20      0.00      0.01      1942\n",
      "\n",
      "avg / total       0.51      0.70      0.58     16948\n",
      "\n",
      "[[    0     0     0     0     0     0     0     0     0   121     2]\n",
      " [    0     0     0     0     0     0     0     0     0   268     1]\n",
      " [    0     0     0     0     0     0     0     0     0   210     2]\n",
      " [    0     0     0     0     1     0     0     0     0   456     1]\n",
      " [    0     0     0     0     0     0     0     0     0   907     0]\n",
      " [    0     0     0     0     0     0     0     0     0   467     2]\n",
      " [    0     0     0     0     1     0     0     0     0   483     3]\n",
      " [    0     0     0     0     0     0     0     0     0   157     0]\n",
      " [    0     0     0     0     0     0     0     0     0    50     0]\n",
      " [    0     0     0     1     6     0     1     0     0 11845    21]\n",
      " [    0     0     0     0     2     0     0     0     0  1932     8]]\n"
     ]
    }
   ],
   "source": [
    "# Summarize the fit of the model\n",
    "print(metrics.classification_report(expected, predicted_knn))\n",
    "print(metrics.confusion_matrix(expected, predicted_knn))"
   ]
  },
  {
   "cell_type": "code",
   "execution_count": 243,
   "metadata": {
    "collapsed": false
   },
   "outputs": [
    {
     "name": "stdout",
     "output_type": "stream",
     "text": [
      "KNN (k=15) CV score:  0.706893459291\n"
     ]
    }
   ],
   "source": [
    "# Cross-Validated Score for the KNN (k=15 model)\n",
    "scores_knn = cross_val_score(knn, X2, y2, cv=10, scoring='accuracy')\n",
    "print \"KNN (k=15) CV score: \", scores_knn.mean()"
   ]
  },
  {
   "cell_type": "code",
   "execution_count": null,
   "metadata": {
    "collapsed": true
   },
   "outputs": [],
   "source": []
  },
  {
   "cell_type": "markdown",
   "metadata": {},
   "source": [
    "## KNN for Model #2 - Using Cross Validation"
   ]
  },
  {
   "cell_type": "code",
   "execution_count": 227,
   "metadata": {
    "collapsed": true
   },
   "outputs": [],
   "source": [
    "from sklearn.neighbors import KNeighborsClassifier\n",
    "from sklearn.cross_validation import cross_val_score\n",
    "from sklearn import metrics"
   ]
  },
  {
   "cell_type": "code",
   "execution_count": 228,
   "metadata": {
    "collapsed": false
   },
   "outputs": [],
   "source": [
    "k_range = range(1,16)\n",
    "k_scores = []\n",
    "for k in k_range:\n",
    "    knn_cv = KNeighborsClassifier(n_neighbors=k)\n",
    "    scores = cross_val_score(knn_cv, X2, y2, cv=3, scoring='accuracy')\n",
    "    k_scores.append(scores.mean())\n"
   ]
  },
  {
   "cell_type": "code",
   "execution_count": 229,
   "metadata": {
    "collapsed": false
   },
   "outputs": [
    {
     "data": {
      "text/plain": [
       "<matplotlib.text.Text at 0x12b75b910>"
      ]
     },
     "execution_count": 229,
     "metadata": {},
     "output_type": "execute_result"
    },
    {
     "data": {
      "image/png": "[encoded data removed]",
      "text/plain": [
       "<matplotlib.figure.Figure at 0x13d230950>"
      ]
     },
     "metadata": {},
     "output_type": "display_data"
    }
   ],
   "source": [
    "#Now plot the results to understand the best value of k for our model\n",
    "plt.plot(k_range, k_scores)\n",
    "plt.xlabel('Value of K for KNN')\n",
    "plt.ylabel('Cross-Validated Accuracy')"
   ]
  },
  {
   "cell_type": "code",
   "execution_count": 221,
   "metadata": {
    "collapsed": false
   },
   "outputs": [],
   "source": [
    "# # Setup model with best k-value\n",
    "# knn = KNeighborsClassifier(n_neighbors=15)\n",
    "# knn.fit(X2_train, y2_train)\n",
    "\n",
    "# # Cross-Validated Score for the KNN (k=15 model)\n",
    "# scores_knn = cross_val_score(knn, X2, y2, cv=10, scoring='accuracy')\n",
    "# print \"KNN (k=15) CV score: \", scores_knn.mean()\n",
    "\n",
    "# # Make predictions\n",
    "# expected = y2_test\n",
    "# predicted_knn = knn.predict(X2_test)\n",
    "\n",
    "# # Summarize the fit of the model\n",
    "# print(metrics.classification_report(expected, predicted_knn))"
   ]
  },
  {
   "cell_type": "markdown",
   "metadata": {},
   "source": [
    "## Decision Tree for Model #2"
   ]
  },
  {
   "cell_type": "code",
   "execution_count": 222,
   "metadata": {
    "collapsed": false
   },
   "outputs": [
    {
     "name": "stdout",
     "output_type": "stream",
     "text": [
      "0.467435885061\n"
     ]
    }
   ],
   "source": [
    "from sklearn.tree import DecisionTreeClassifier\n",
    "dtree = DecisionTreeClassifier()\n",
    "scores_dt = cross_val_score(dtree, X2, y2, cv=10, scoring='accuracy')\n",
    "print scores_dt.mean()"
   ]
  },
  {
   "cell_type": "code",
   "execution_count": 223,
   "metadata": {
    "collapsed": false
   },
   "outputs": [
    {
     "name": "stdout",
     "output_type": "stream",
     "text": [
      "             precision    recall  f1-score   support\n",
      "\n",
      "         AU       0.01      0.01      0.01       123\n",
      "         CA       0.02      0.02      0.02       269\n",
      "         DE       0.01      0.01      0.01       212\n",
      "         ES       0.03      0.03      0.03       458\n",
      "         FR       0.05      0.06      0.05       907\n",
      "         GB       0.03      0.03      0.03       469\n",
      "         IT       0.04      0.04      0.04       487\n",
      "         NL       0.00      0.00      0.00       157\n",
      "         PT       0.00      0.00      0.00        50\n",
      "         US       0.70      0.68      0.69     11874\n",
      "      other       0.12      0.12      0.12      1942\n",
      "\n",
      "avg / total       0.51      0.49      0.50     16948\n",
      "\n"
     ]
    },
    {
     "data": {
      "text/html": [
       "<div>\n",
       "<table border=\"1\" class=\"dataframe\">\n",
       "  <thead>\n",
       "    <tr style=\"text-align: right;\">\n",
       "      <th></th>\n",
       "      <th>Features</th>\n",
       "      <th>Importance Score</th>\n",
       "    </tr>\n",
       "  </thead>\n",
       "  <tbody>\n",
       "    <tr>\n",
       "      <th>0</th>\n",
       "      <td>diff_created_active</td>\n",
       "      <td>0.362496</td>\n",
       "    </tr>\n",
       "    <tr>\n",
       "      <th>64</th>\n",
       "      <td>browser_Chrome</td>\n",
       "      <td>0.026461</td>\n",
       "    </tr>\n",
       "    <tr>\n",
       "      <th>11</th>\n",
       "      <td>age_3.0</td>\n",
       "      <td>0.025676</td>\n",
       "    </tr>\n",
       "    <tr>\n",
       "      <th>47</th>\n",
       "      <td>dow_2</td>\n",
       "      <td>0.023432</td>\n",
       "    </tr>\n",
       "    <tr>\n",
       "      <th>97</th>\n",
       "      <td>browser_Safari</td>\n",
       "      <td>0.022681</td>\n",
       "    </tr>\n",
       "    <tr>\n",
       "      <th>48</th>\n",
       "      <td>dow_3</td>\n",
       "      <td>0.022236</td>\n",
       "    </tr>\n",
       "    <tr>\n",
       "      <th>73</th>\n",
       "      <td>browser_Firefox</td>\n",
       "      <td>0.021759</td>\n",
       "    </tr>\n",
       "    <tr>\n",
       "      <th>46</th>\n",
       "      <td>dow_1</td>\n",
       "      <td>0.021462</td>\n",
       "    </tr>\n",
       "    <tr>\n",
       "      <th>45</th>\n",
       "      <td>dow_0</td>\n",
       "      <td>0.021377</td>\n",
       "    </tr>\n",
       "    <tr>\n",
       "      <th>49</th>\n",
       "      <td>dow_4</td>\n",
       "      <td>0.020848</td>\n",
       "    </tr>\n",
       "    <tr>\n",
       "      <th>6</th>\n",
       "      <td>su_facebook</td>\n",
       "      <td>0.020835</td>\n",
       "    </tr>\n",
       "    <tr>\n",
       "      <th>12</th>\n",
       "      <td>age_4.0</td>\n",
       "      <td>0.020691</td>\n",
       "    </tr>\n",
       "    <tr>\n",
       "      <th>50</th>\n",
       "      <td>dow_5</td>\n",
       "      <td>0.019908</td>\n",
       "    </tr>\n",
       "    <tr>\n",
       "      <th>5</th>\n",
       "      <td>su_basic</td>\n",
       "      <td>0.019698</td>\n",
       "    </tr>\n",
       "    <tr>\n",
       "      <th>51</th>\n",
       "      <td>dow_6</td>\n",
       "      <td>0.018524</td>\n",
       "    </tr>\n",
       "    <tr>\n",
       "      <th>10</th>\n",
       "      <td>age_2.0</td>\n",
       "      <td>0.018210</td>\n",
       "    </tr>\n",
       "    <tr>\n",
       "      <th>3</th>\n",
       "      <td>gender_MALE</td>\n",
       "      <td>0.017169</td>\n",
       "    </tr>\n",
       "    <tr>\n",
       "      <th>36</th>\n",
       "      <td>mo_4</td>\n",
       "      <td>0.016487</td>\n",
       "    </tr>\n",
       "    <tr>\n",
       "      <th>38</th>\n",
       "      <td>mo_6</td>\n",
       "      <td>0.015591</td>\n",
       "    </tr>\n",
       "    <tr>\n",
       "      <th>1</th>\n",
       "      <td>gender_-unknown-</td>\n",
       "      <td>0.015335</td>\n",
       "    </tr>\n",
       "  </tbody>\n",
       "</table>\n",
       "</div>"
      ],
      "text/plain": [
       "               Features  Importance Score\n",
       "0   diff_created_active          0.362496\n",
       "64       browser_Chrome          0.026461\n",
       "11              age_3.0          0.025676\n",
       "47                dow_2          0.023432\n",
       "97       browser_Safari          0.022681\n",
       "48                dow_3          0.022236\n",
       "73      browser_Firefox          0.021759\n",
       "46                dow_1          0.021462\n",
       "45                dow_0          0.021377\n",
       "49                dow_4          0.020848\n",
       "6           su_facebook          0.020835\n",
       "12              age_4.0          0.020691\n",
       "50                dow_5          0.019908\n",
       "5              su_basic          0.019698\n",
       "51                dow_6          0.018524\n",
       "10              age_2.0          0.018210\n",
       "3           gender_MALE          0.017169\n",
       "36                 mo_4          0.016487\n",
       "38                 mo_6          0.015591\n",
       "1      gender_-unknown-          0.015335"
      ]
     },
     "execution_count": 223,
     "metadata": {},
     "output_type": "execute_result"
    }
   ],
   "source": [
    "dtree.fit(X2_train, y2_train)\n",
    "\n",
    "# Make predictions\n",
    "expected = y2_test\n",
    "predicted_dtree = dtree.predict(X2_test)\n",
    "\n",
    "# Summarize the fit of the model\n",
    "print(metrics.classification_report(expected, predicted_dtree))\n",
    "\n",
    "features = X2_train.columns\n",
    "feature_importances_dtree = dtree.feature_importances_\n",
    "\n",
    "features_df_dtree = pd.DataFrame({'Features': features, 'Importance Score': feature_importances_dtree})\n",
    "features_df_dtree.sort_values('Importance Score', inplace=True, ascending=False)\n",
    "\n",
    "features_df_dtree.head(20)"
   ]
  },
  {
   "cell_type": "markdown",
   "metadata": {},
   "source": [
    "## Random Forrest for Model #2"
   ]
  },
  {
   "cell_type": "code",
   "execution_count": 224,
   "metadata": {
    "collapsed": false
   },
   "outputs": [],
   "source": [
    "from sklearn.ensemble import RandomForestClassifier"
   ]
  },
  {
   "cell_type": "code",
   "execution_count": 233,
   "metadata": {
    "collapsed": true
   },
   "outputs": [],
   "source": [
    "# Run the Random Forrest model with different n_estimators to understand what is the optimal number\n",
    "n_range = range(1,10)\n",
    "n_scores = []\n",
    "for n in n_range:\n",
    "    rforrest_cv = RandomForestClassifier(n_estimators = n*5)\n",
    "    scores = cross_val_score(rforrest_cv, X2, y2, cv=3, scoring='accuracy')\n",
    "    n_scores.append(scores.mean())"
   ]
  },
  {
   "cell_type": "code",
   "execution_count": 234,
   "metadata": {
    "collapsed": true
   },
   "outputs": [],
   "source": [
    "n_range2 = []\n",
    "for n in n_range:\n",
    "    n_range2.append(n*5)"
   ]
  },
  {
   "cell_type": "code",
   "execution_count": 235,
   "metadata": {
    "collapsed": false
   },
   "outputs": [
    {
     "data": {
      "text/plain": [
       "<matplotlib.text.Text at 0x12bca28d0>"
      ]
     },
     "execution_count": 235,
     "metadata": {},
     "output_type": "execute_result"
    },
    {
     "data": {
      "image/png": "[encoded data removed]",
      "text/plain": [
       "<matplotlib.figure.Figure at 0x12cc86f50>"
      ]
     },
     "metadata": {},
     "output_type": "display_data"
    }
   ],
   "source": [
    "#Now plot the results to understand the best value of k for our model\n",
    "plt.plot(n_range2, n_scores)\n",
    "plt.xlabel('Number of Estimators for Random Forrest')\n",
    "plt.ylabel('Cross-Validated Accuracy')"
   ]
  },
  {
   "cell_type": "code",
   "execution_count": 246,
   "metadata": {
    "collapsed": false
   },
   "outputs": [
    {
     "name": "stdout",
     "output_type": "stream",
     "text": [
      "0.600023621702\n"
     ]
    }
   ],
   "source": [
    "rforrest = RandomForestClassifier(n_estimators = 30)\n",
    "scores_rf = cross_val_score(rforrest, X2, y2, cv=10, scoring='accuracy')\n",
    "print scores_rf.mean()"
   ]
  },
  {
   "cell_type": "code",
   "execution_count": 247,
   "metadata": {
    "collapsed": false
   },
   "outputs": [
    {
     "name": "stdout",
     "output_type": "stream",
     "text": [
      "             precision    recall  f1-score   support\n",
      "\n",
      "         AU       0.00      0.00      0.00       123\n",
      "         CA       0.01      0.00      0.00       269\n",
      "         DE       0.03      0.01      0.02       212\n",
      "         ES       0.03      0.02      0.02       458\n",
      "         FR       0.06      0.03      0.04       907\n",
      "         GB       0.01      0.01      0.01       469\n",
      "         IT       0.04      0.02      0.03       487\n",
      "         NL       0.02      0.01      0.02       157\n",
      "         PT       0.05      0.02      0.03        50\n",
      "         US       0.70      0.85      0.77     11874\n",
      "      other       0.13      0.06      0.08      1942\n",
      "\n",
      "avg / total       0.51      0.61      0.55     16948\n",
      "\n"
     ]
    },
    {
     "data": {
      "text/html": [
       "<div>\n",
       "<table border=\"1\" class=\"dataframe\">\n",
       "  <thead>\n",
       "    <tr style=\"text-align: right;\">\n",
       "      <th></th>\n",
       "      <th>Features</th>\n",
       "      <th>Importance Score</th>\n",
       "    </tr>\n",
       "  </thead>\n",
       "  <tbody>\n",
       "    <tr>\n",
       "      <th>0</th>\n",
       "      <td>diff_created_active</td>\n",
       "      <td>0.362496</td>\n",
       "    </tr>\n",
       "    <tr>\n",
       "      <th>64</th>\n",
       "      <td>browser_Chrome</td>\n",
       "      <td>0.026461</td>\n",
       "    </tr>\n",
       "    <tr>\n",
       "      <th>11</th>\n",
       "      <td>age_3.0</td>\n",
       "      <td>0.025676</td>\n",
       "    </tr>\n",
       "    <tr>\n",
       "      <th>47</th>\n",
       "      <td>dow_2</td>\n",
       "      <td>0.023432</td>\n",
       "    </tr>\n",
       "    <tr>\n",
       "      <th>97</th>\n",
       "      <td>browser_Safari</td>\n",
       "      <td>0.022681</td>\n",
       "    </tr>\n",
       "    <tr>\n",
       "      <th>48</th>\n",
       "      <td>dow_3</td>\n",
       "      <td>0.022236</td>\n",
       "    </tr>\n",
       "    <tr>\n",
       "      <th>73</th>\n",
       "      <td>browser_Firefox</td>\n",
       "      <td>0.021759</td>\n",
       "    </tr>\n",
       "    <tr>\n",
       "      <th>46</th>\n",
       "      <td>dow_1</td>\n",
       "      <td>0.021462</td>\n",
       "    </tr>\n",
       "    <tr>\n",
       "      <th>45</th>\n",
       "      <td>dow_0</td>\n",
       "      <td>0.021377</td>\n",
       "    </tr>\n",
       "    <tr>\n",
       "      <th>49</th>\n",
       "      <td>dow_4</td>\n",
       "      <td>0.020848</td>\n",
       "    </tr>\n",
       "    <tr>\n",
       "      <th>6</th>\n",
       "      <td>su_facebook</td>\n",
       "      <td>0.020835</td>\n",
       "    </tr>\n",
       "    <tr>\n",
       "      <th>12</th>\n",
       "      <td>age_4.0</td>\n",
       "      <td>0.020691</td>\n",
       "    </tr>\n",
       "    <tr>\n",
       "      <th>50</th>\n",
       "      <td>dow_5</td>\n",
       "      <td>0.019908</td>\n",
       "    </tr>\n",
       "    <tr>\n",
       "      <th>5</th>\n",
       "      <td>su_basic</td>\n",
       "      <td>0.019698</td>\n",
       "    </tr>\n",
       "    <tr>\n",
       "      <th>51</th>\n",
       "      <td>dow_6</td>\n",
       "      <td>0.018524</td>\n",
       "    </tr>\n",
       "    <tr>\n",
       "      <th>10</th>\n",
       "      <td>age_2.0</td>\n",
       "      <td>0.018210</td>\n",
       "    </tr>\n",
       "    <tr>\n",
       "      <th>3</th>\n",
       "      <td>gender_MALE</td>\n",
       "      <td>0.017169</td>\n",
       "    </tr>\n",
       "    <tr>\n",
       "      <th>36</th>\n",
       "      <td>mo_4</td>\n",
       "      <td>0.016487</td>\n",
       "    </tr>\n",
       "    <tr>\n",
       "      <th>38</th>\n",
       "      <td>mo_6</td>\n",
       "      <td>0.015591</td>\n",
       "    </tr>\n",
       "    <tr>\n",
       "      <th>1</th>\n",
       "      <td>gender_-unknown-</td>\n",
       "      <td>0.015335</td>\n",
       "    </tr>\n",
       "  </tbody>\n",
       "</table>\n",
       "</div>"
      ],
      "text/plain": [
       "               Features  Importance Score\n",
       "0   diff_created_active          0.362496\n",
       "64       browser_Chrome          0.026461\n",
       "11              age_3.0          0.025676\n",
       "47                dow_2          0.023432\n",
       "97       browser_Safari          0.022681\n",
       "48                dow_3          0.022236\n",
       "73      browser_Firefox          0.021759\n",
       "46                dow_1          0.021462\n",
       "45                dow_0          0.021377\n",
       "49                dow_4          0.020848\n",
       "6           su_facebook          0.020835\n",
       "12              age_4.0          0.020691\n",
       "50                dow_5          0.019908\n",
       "5              su_basic          0.019698\n",
       "51                dow_6          0.018524\n",
       "10              age_2.0          0.018210\n",
       "3           gender_MALE          0.017169\n",
       "36                 mo_4          0.016487\n",
       "38                 mo_6          0.015591\n",
       "1      gender_-unknown-          0.015335"
      ]
     },
     "execution_count": 247,
     "metadata": {},
     "output_type": "execute_result"
    }
   ],
   "source": [
    "rforrest.fit(X2_train, y2_train)\n",
    "\n",
    "# Make predictions\n",
    "expected = y2_test\n",
    "predicted_rforrest = rforrest.predict(X2_test)\n",
    "\n",
    "# Summarize the fit of the model\n",
    "print(metrics.classification_report(expected, predicted_rforrest))\n",
    "\n",
    "features = X2_train.columns\n",
    "feature_importances_rforrest = dtree.feature_importances_\n",
    "\n",
    "features_df_rforrest = pd.DataFrame({'Features': features, 'Importance Score': feature_importances_rforrest})\n",
    "features_df_rforrest.sort_values('Importance Score', inplace=True, ascending=False)\n",
    "\n",
    "features_df_rforrest.head(20)"
   ]
  },
  {
   "cell_type": "code",
   "execution_count": null,
   "metadata": {
    "collapsed": true
   },
   "outputs": [],
   "source": []
  }
 ],
 "metadata": {
  "anaconda-cloud": {},
  "kernelspec": {
   "display_name": "Python 2",
   "language": "python",
   "name": "python2"
  },
  "language_info": {
   "codemirror_mode": {
    "name": "ipython",
    "version": 2
   },
   "file_extension": ".py",
   "mimetype": "text/x-python",
   "name": "python",
   "nbconvert_exporter": "python",
   "pygments_lexer": "ipython2",
   "version": "2.7.12"
  }
 },
 "nbformat": 4,
 "nbformat_minor": 0
}
